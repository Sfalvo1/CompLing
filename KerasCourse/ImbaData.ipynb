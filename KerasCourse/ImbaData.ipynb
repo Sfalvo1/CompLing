{
 "cells": [
  {
   "cell_type": "code",
   "execution_count": 1,
   "metadata": {},
   "outputs": [],
   "source": [
    "import pandas as pd\n",
    "from matplotlib import pyplot as plt\n",
    "import numpy as np\n",
    "%matplotlib inline\n",
    "\n",
    "import tensorflow as tf\n",
    "from tensorflow import keras\n",
    "#from tensorflow_addons import losses\n",
    "from sklearn.metrics import confusion_matrix, classification_report"
   ]
  },
  {
   "cell_type": "code",
   "execution_count": 3,
   "metadata": {
    "scrolled": false
   },
   "outputs": [],
   "source": [
    "df = pd.read_csv(\"customer_churn.csv\")\n",
    "df.drop('customerID', axis='columns', inplace=True)\n",
    "df[pd.to_numeric(df.TotalCharges, errors='coerce').isnull()]\n",
    "df1 = df[df.TotalCharges!=' ']\n",
    "df1.TotalCharges = pd.to_numeric(df1.TotalCharges)\n"
   ]
  },
  {
   "cell_type": "code",
   "execution_count": 5,
   "metadata": {},
   "outputs": [
    {
     "name": "stdout",
     "output_type": "stream",
     "text": [
      "gender : ['Female' 'Male']\n",
      "SeniorCitizen : [0 1]\n",
      "Partner : ['Yes' 'No']\n",
      "Dependents : ['No' 'Yes']\n",
      "tenure : [ 1 34  2 45  8 22 10 28 62 13 16 58 49 25 69 52 71 21 12 30 47 72 17 27\n",
      "  5 46 11 70 63 43 15 60 18 66  9  3 31 50 64 56  7 42 35 48 29 65 38 68\n",
      " 32 55 37 36 41  6  4 33 67 23 57 61 14 20 53 40 59 24 44 19 54 51 26 39]\n",
      "PhoneService : ['No' 'Yes']\n",
      "MultipleLines : ['No phone service' 'No' 'Yes']\n",
      "InternetService : ['DSL' 'Fiber optic' 'No']\n",
      "OnlineSecurity : ['No' 'Yes' 'No internet service']\n",
      "OnlineBackup : ['Yes' 'No' 'No internet service']\n",
      "DeviceProtection : ['No' 'Yes' 'No internet service']\n",
      "TechSupport : ['No' 'Yes' 'No internet service']\n",
      "StreamingTV : ['No' 'Yes' 'No internet service']\n",
      "StreamingMovies : ['No' 'Yes' 'No internet service']\n",
      "Contract : ['Month-to-month' 'One year' 'Two year']\n",
      "PaperlessBilling : ['Yes' 'No']\n",
      "PaymentMethod : ['Electronic check' 'Mailed check' 'Bank transfer (automatic)'\n",
      " 'Credit card (automatic)']\n",
      "MonthlyCharges : [29.85 56.95 53.85 ... 63.1  44.2  78.7 ]\n",
      "TotalCharges : [  29.85 1889.5   108.15 ...  346.45  306.6  6844.5 ]\n",
      "Churn : ['No' 'Yes']\n"
     ]
    }
   ],
   "source": [
    "for column in df1:\n",
    "    print(f'{column} : {df1[column].unique()}')"
   ]
  },
  {
   "cell_type": "code",
   "execution_count": 7,
   "metadata": {
    "scrolled": true
   },
   "outputs": [],
   "source": [
    "df1.replace('No internet service', 'No', inplace=True) #inplace means the chosen df is affected by the function\n",
    "df1.replace('No phone service', 'No', inplace=True)\n",
    "yes_no_columns = ['Partner', 'Dependents', 'PhoneService', 'MultipleLines', 'OnlineSecurity', 'OnlineBackup', 'DeviceProtection',\n",
    "                  'TechSupport', 'StreamingTV', 'StreamingMovies', 'PaperlessBilling', 'Churn']"
   ]
  },
  {
   "cell_type": "code",
   "execution_count": 8,
   "metadata": {},
   "outputs": [
    {
     "name": "stdout",
     "output_type": "stream",
     "text": [
      "gender : ['Female' 'Male']\n",
      "Partner : ['Yes' 'No']\n",
      "Dependents : ['No' 'Yes']\n",
      "PhoneService : ['No' 'Yes']\n",
      "MultipleLines : ['No' 'Yes']\n",
      "InternetService : ['DSL' 'Fiber optic' 'No']\n",
      "OnlineSecurity : ['No' 'Yes']\n",
      "OnlineBackup : ['Yes' 'No']\n",
      "DeviceProtection : ['No' 'Yes']\n",
      "TechSupport : ['No' 'Yes']\n",
      "StreamingTV : ['No' 'Yes']\n",
      "StreamingMovies : ['No' 'Yes']\n",
      "Contract : ['Month-to-month' 'One year' 'Two year']\n",
      "PaperlessBilling : ['Yes' 'No']\n",
      "PaymentMethod : ['Electronic check' 'Mailed check' 'Bank transfer (automatic)'\n",
      " 'Credit card (automatic)']\n",
      "Churn : ['No' 'Yes']\n"
     ]
    }
   ],
   "source": [
    "for column in df1:\n",
    "        if df1[column].dtypes=='object':\n",
    "            print(f'{column} : {df1[column].unique()}')"
   ]
  },
  {
   "cell_type": "code",
   "execution_count": 10,
   "metadata": {
    "scrolled": true
   },
   "outputs": [
    {
     "ename": "TypeError",
     "evalue": "Cannot compare types 'ndarray(dtype=int64)' and 'str'",
     "output_type": "error",
     "traceback": [
      "\u001b[1;31m---------------------------------------------------------------------------\u001b[0m",
      "\u001b[1;31mTypeError\u001b[0m                                 Traceback (most recent call last)",
      "\u001b[1;32m<ipython-input-10-e908bf178eae>\u001b[0m in \u001b[0;36m<module>\u001b[1;34m\u001b[0m\n\u001b[0;32m      1\u001b[0m \u001b[1;32mfor\u001b[0m \u001b[0mcol\u001b[0m \u001b[1;32min\u001b[0m \u001b[0myes_no_columns\u001b[0m\u001b[1;33m:\u001b[0m\u001b[1;33m\u001b[0m\u001b[1;33m\u001b[0m\u001b[0m\n\u001b[1;32m----> 2\u001b[1;33m     \u001b[0mdf1\u001b[0m\u001b[1;33m[\u001b[0m\u001b[0mcol\u001b[0m\u001b[1;33m]\u001b[0m\u001b[1;33m.\u001b[0m\u001b[0mreplace\u001b[0m\u001b[1;33m(\u001b[0m\u001b[1;33m{\u001b[0m\u001b[1;34m'Yes'\u001b[0m\u001b[1;33m:\u001b[0m \u001b[1;36m1\u001b[0m\u001b[1;33m,\u001b[0m \u001b[1;34m'No'\u001b[0m\u001b[1;33m:\u001b[0m \u001b[1;36m0\u001b[0m\u001b[1;33m}\u001b[0m\u001b[1;33m,\u001b[0m \u001b[0minplace\u001b[0m\u001b[1;33m=\u001b[0m\u001b[1;32mTrue\u001b[0m\u001b[1;33m)\u001b[0m\u001b[1;33m\u001b[0m\u001b[1;33m\u001b[0m\u001b[0m\n\u001b[0m",
      "\u001b[1;32m~\\anaconda3\\lib\\site-packages\\pandas\\core\\series.py\u001b[0m in \u001b[0;36mreplace\u001b[1;34m(self, to_replace, value, inplace, limit, regex, method)\u001b[0m\n\u001b[0;32m   4561\u001b[0m         \u001b[0mmethod\u001b[0m\u001b[1;33m=\u001b[0m\u001b[1;34m\"pad\"\u001b[0m\u001b[1;33m,\u001b[0m\u001b[1;33m\u001b[0m\u001b[1;33m\u001b[0m\u001b[0m\n\u001b[0;32m   4562\u001b[0m     ):\n\u001b[1;32m-> 4563\u001b[1;33m         return super().replace(\n\u001b[0m\u001b[0;32m   4564\u001b[0m             \u001b[0mto_replace\u001b[0m\u001b[1;33m=\u001b[0m\u001b[0mto_replace\u001b[0m\u001b[1;33m,\u001b[0m\u001b[1;33m\u001b[0m\u001b[1;33m\u001b[0m\u001b[0m\n\u001b[0;32m   4565\u001b[0m             \u001b[0mvalue\u001b[0m\u001b[1;33m=\u001b[0m\u001b[0mvalue\u001b[0m\u001b[1;33m,\u001b[0m\u001b[1;33m\u001b[0m\u001b[1;33m\u001b[0m\u001b[0m\n",
      "\u001b[1;32m~\\anaconda3\\lib\\site-packages\\pandas\\core\\generic.py\u001b[0m in \u001b[0;36mreplace\u001b[1;34m(self, to_replace, value, inplace, limit, regex, method)\u001b[0m\n\u001b[0;32m   6498\u001b[0m                 \u001b[0mto_replace\u001b[0m\u001b[1;33m,\u001b[0m \u001b[0mvalue\u001b[0m \u001b[1;33m=\u001b[0m \u001b[0mkeys\u001b[0m\u001b[1;33m,\u001b[0m \u001b[0mvalues\u001b[0m\u001b[1;33m\u001b[0m\u001b[1;33m\u001b[0m\u001b[0m\n\u001b[0;32m   6499\u001b[0m \u001b[1;33m\u001b[0m\u001b[0m\n\u001b[1;32m-> 6500\u001b[1;33m             return self.replace(\n\u001b[0m\u001b[0;32m   6501\u001b[0m                 \u001b[0mto_replace\u001b[0m\u001b[1;33m,\u001b[0m \u001b[0mvalue\u001b[0m\u001b[1;33m,\u001b[0m \u001b[0minplace\u001b[0m\u001b[1;33m=\u001b[0m\u001b[0minplace\u001b[0m\u001b[1;33m,\u001b[0m \u001b[0mlimit\u001b[0m\u001b[1;33m=\u001b[0m\u001b[0mlimit\u001b[0m\u001b[1;33m,\u001b[0m \u001b[0mregex\u001b[0m\u001b[1;33m=\u001b[0m\u001b[0mregex\u001b[0m\u001b[1;33m\u001b[0m\u001b[1;33m\u001b[0m\u001b[0m\n\u001b[0;32m   6502\u001b[0m             )\n",
      "\u001b[1;32m~\\anaconda3\\lib\\site-packages\\pandas\\core\\series.py\u001b[0m in \u001b[0;36mreplace\u001b[1;34m(self, to_replace, value, inplace, limit, regex, method)\u001b[0m\n\u001b[0;32m   4561\u001b[0m         \u001b[0mmethod\u001b[0m\u001b[1;33m=\u001b[0m\u001b[1;34m\"pad\"\u001b[0m\u001b[1;33m,\u001b[0m\u001b[1;33m\u001b[0m\u001b[1;33m\u001b[0m\u001b[0m\n\u001b[0;32m   4562\u001b[0m     ):\n\u001b[1;32m-> 4563\u001b[1;33m         return super().replace(\n\u001b[0m\u001b[0;32m   4564\u001b[0m             \u001b[0mto_replace\u001b[0m\u001b[1;33m=\u001b[0m\u001b[0mto_replace\u001b[0m\u001b[1;33m,\u001b[0m\u001b[1;33m\u001b[0m\u001b[1;33m\u001b[0m\u001b[0m\n\u001b[0;32m   4565\u001b[0m             \u001b[0mvalue\u001b[0m\u001b[1;33m=\u001b[0m\u001b[0mvalue\u001b[0m\u001b[1;33m,\u001b[0m\u001b[1;33m\u001b[0m\u001b[1;33m\u001b[0m\u001b[0m\n",
      "\u001b[1;32m~\\anaconda3\\lib\\site-packages\\pandas\\core\\generic.py\u001b[0m in \u001b[0;36mreplace\u001b[1;34m(self, to_replace, value, inplace, limit, regex, method)\u001b[0m\n\u001b[0;32m   6541\u001b[0m                         )\n\u001b[0;32m   6542\u001b[0m                     \u001b[0mself\u001b[0m\u001b[1;33m.\u001b[0m\u001b[0m_consolidate_inplace\u001b[0m\u001b[1;33m(\u001b[0m\u001b[1;33m)\u001b[0m\u001b[1;33m\u001b[0m\u001b[1;33m\u001b[0m\u001b[0m\n\u001b[1;32m-> 6543\u001b[1;33m                     new_data = self._mgr.replace_list(\n\u001b[0m\u001b[0;32m   6544\u001b[0m                         \u001b[0msrc_list\u001b[0m\u001b[1;33m=\u001b[0m\u001b[0mto_replace\u001b[0m\u001b[1;33m,\u001b[0m\u001b[1;33m\u001b[0m\u001b[1;33m\u001b[0m\u001b[0m\n\u001b[0;32m   6545\u001b[0m                         \u001b[0mdest_list\u001b[0m\u001b[1;33m=\u001b[0m\u001b[0mvalue\u001b[0m\u001b[1;33m,\u001b[0m\u001b[1;33m\u001b[0m\u001b[1;33m\u001b[0m\u001b[0m\n",
      "\u001b[1;32m~\\anaconda3\\lib\\site-packages\\pandas\\core\\internals\\managers.py\u001b[0m in \u001b[0;36mreplace_list\u001b[1;34m(self, src_list, dest_list, inplace, regex)\u001b[0m\n\u001b[0;32m    640\u001b[0m         \u001b[0mmask\u001b[0m \u001b[1;33m=\u001b[0m \u001b[1;33m~\u001b[0m\u001b[0misna\u001b[0m\u001b[1;33m(\u001b[0m\u001b[0mvalues\u001b[0m\u001b[1;33m)\u001b[0m\u001b[1;33m\u001b[0m\u001b[1;33m\u001b[0m\u001b[0m\n\u001b[0;32m    641\u001b[0m \u001b[1;33m\u001b[0m\u001b[0m\n\u001b[1;32m--> 642\u001b[1;33m         \u001b[0mmasks\u001b[0m \u001b[1;33m=\u001b[0m \u001b[1;33m[\u001b[0m\u001b[0mcomp\u001b[0m\u001b[1;33m(\u001b[0m\u001b[0ms\u001b[0m\u001b[1;33m,\u001b[0m \u001b[0mmask\u001b[0m\u001b[1;33m,\u001b[0m \u001b[0mregex\u001b[0m\u001b[1;33m)\u001b[0m \u001b[1;32mfor\u001b[0m \u001b[0ms\u001b[0m \u001b[1;32min\u001b[0m \u001b[0msrc_list\u001b[0m\u001b[1;33m]\u001b[0m\u001b[1;33m\u001b[0m\u001b[1;33m\u001b[0m\u001b[0m\n\u001b[0m\u001b[0;32m    643\u001b[0m \u001b[1;33m\u001b[0m\u001b[0m\n\u001b[0;32m    644\u001b[0m         \u001b[0mresult_blocks\u001b[0m \u001b[1;33m=\u001b[0m \u001b[1;33m[\u001b[0m\u001b[1;33m]\u001b[0m\u001b[1;33m\u001b[0m\u001b[1;33m\u001b[0m\u001b[0m\n",
      "\u001b[1;32m~\\anaconda3\\lib\\site-packages\\pandas\\core\\internals\\managers.py\u001b[0m in \u001b[0;36m<listcomp>\u001b[1;34m(.0)\u001b[0m\n\u001b[0;32m    640\u001b[0m         \u001b[0mmask\u001b[0m \u001b[1;33m=\u001b[0m \u001b[1;33m~\u001b[0m\u001b[0misna\u001b[0m\u001b[1;33m(\u001b[0m\u001b[0mvalues\u001b[0m\u001b[1;33m)\u001b[0m\u001b[1;33m\u001b[0m\u001b[1;33m\u001b[0m\u001b[0m\n\u001b[0;32m    641\u001b[0m \u001b[1;33m\u001b[0m\u001b[0m\n\u001b[1;32m--> 642\u001b[1;33m         \u001b[0mmasks\u001b[0m \u001b[1;33m=\u001b[0m \u001b[1;33m[\u001b[0m\u001b[0mcomp\u001b[0m\u001b[1;33m(\u001b[0m\u001b[0ms\u001b[0m\u001b[1;33m,\u001b[0m \u001b[0mmask\u001b[0m\u001b[1;33m,\u001b[0m \u001b[0mregex\u001b[0m\u001b[1;33m)\u001b[0m \u001b[1;32mfor\u001b[0m \u001b[0ms\u001b[0m \u001b[1;32min\u001b[0m \u001b[0msrc_list\u001b[0m\u001b[1;33m]\u001b[0m\u001b[1;33m\u001b[0m\u001b[1;33m\u001b[0m\u001b[0m\n\u001b[0m\u001b[0;32m    643\u001b[0m \u001b[1;33m\u001b[0m\u001b[0m\n\u001b[0;32m    644\u001b[0m         \u001b[0mresult_blocks\u001b[0m \u001b[1;33m=\u001b[0m \u001b[1;33m[\u001b[0m\u001b[1;33m]\u001b[0m\u001b[1;33m\u001b[0m\u001b[1;33m\u001b[0m\u001b[0m\n",
      "\u001b[1;32m~\\anaconda3\\lib\\site-packages\\pandas\\core\\internals\\managers.py\u001b[0m in \u001b[0;36mcomp\u001b[1;34m(s, mask, regex)\u001b[0m\n\u001b[0;32m    634\u001b[0m \u001b[1;33m\u001b[0m\u001b[0m\n\u001b[0;32m    635\u001b[0m             \u001b[0ms\u001b[0m \u001b[1;33m=\u001b[0m \u001b[0mcom\u001b[0m\u001b[1;33m.\u001b[0m\u001b[0mmaybe_box_datetimelike\u001b[0m\u001b[1;33m(\u001b[0m\u001b[0ms\u001b[0m\u001b[1;33m)\u001b[0m\u001b[1;33m\u001b[0m\u001b[1;33m\u001b[0m\u001b[0m\n\u001b[1;32m--> 636\u001b[1;33m             \u001b[1;32mreturn\u001b[0m \u001b[0m_compare_or_regex_search\u001b[0m\u001b[1;33m(\u001b[0m\u001b[0mvalues\u001b[0m\u001b[1;33m,\u001b[0m \u001b[0ms\u001b[0m\u001b[1;33m,\u001b[0m \u001b[0mregex\u001b[0m\u001b[1;33m,\u001b[0m \u001b[0mmask\u001b[0m\u001b[1;33m)\u001b[0m\u001b[1;33m\u001b[0m\u001b[1;33m\u001b[0m\u001b[0m\n\u001b[0m\u001b[0;32m    637\u001b[0m \u001b[1;33m\u001b[0m\u001b[0m\n\u001b[0;32m    638\u001b[0m         \u001b[1;31m# Calculate the mask once, prior to the call of comp\u001b[0m\u001b[1;33m\u001b[0m\u001b[1;33m\u001b[0m\u001b[1;33m\u001b[0m\u001b[0m\n",
      "\u001b[1;32m~\\anaconda3\\lib\\site-packages\\pandas\\core\\internals\\managers.py\u001b[0m in \u001b[0;36m_compare_or_regex_search\u001b[1;34m(a, b, regex, mask)\u001b[0m\n\u001b[0;32m   1990\u001b[0m     \u001b[1;32mif\u001b[0m \u001b[0mis_datetimelike_v_numeric\u001b[0m\u001b[1;33m(\u001b[0m\u001b[0ma\u001b[0m\u001b[1;33m,\u001b[0m \u001b[0mb\u001b[0m\u001b[1;33m)\u001b[0m \u001b[1;32mor\u001b[0m \u001b[0mis_numeric_v_string_like\u001b[0m\u001b[1;33m(\u001b[0m\u001b[0ma\u001b[0m\u001b[1;33m,\u001b[0m \u001b[0mb\u001b[0m\u001b[1;33m)\u001b[0m\u001b[1;33m:\u001b[0m\u001b[1;33m\u001b[0m\u001b[1;33m\u001b[0m\u001b[0m\n\u001b[0;32m   1991\u001b[0m         \u001b[1;31m# GH#29553 avoid deprecation warnings from numpy\u001b[0m\u001b[1;33m\u001b[0m\u001b[1;33m\u001b[0m\u001b[1;33m\u001b[0m\u001b[0m\n\u001b[1;32m-> 1992\u001b[1;33m         \u001b[0m_check_comparison_types\u001b[0m\u001b[1;33m(\u001b[0m\u001b[1;32mFalse\u001b[0m\u001b[1;33m,\u001b[0m \u001b[0ma\u001b[0m\u001b[1;33m,\u001b[0m \u001b[0mb\u001b[0m\u001b[1;33m)\u001b[0m\u001b[1;33m\u001b[0m\u001b[1;33m\u001b[0m\u001b[0m\n\u001b[0m\u001b[0;32m   1993\u001b[0m         \u001b[1;32mreturn\u001b[0m \u001b[1;32mFalse\u001b[0m\u001b[1;33m\u001b[0m\u001b[1;33m\u001b[0m\u001b[0m\n\u001b[0;32m   1994\u001b[0m \u001b[1;33m\u001b[0m\u001b[0m\n",
      "\u001b[1;32m~\\anaconda3\\lib\\site-packages\\pandas\\core\\internals\\managers.py\u001b[0m in \u001b[0;36m_check_comparison_types\u001b[1;34m(result, a, b)\u001b[0m\n\u001b[0;32m   1969\u001b[0m                 \u001b[0mtype_names\u001b[0m\u001b[1;33m[\u001b[0m\u001b[1;36m0\u001b[0m\u001b[1;33m]\u001b[0m \u001b[1;33m=\u001b[0m \u001b[1;34mf\"ndarray(dtype={a.dtype})\"\u001b[0m\u001b[1;33m\u001b[0m\u001b[1;33m\u001b[0m\u001b[0m\n\u001b[0;32m   1970\u001b[0m \u001b[1;33m\u001b[0m\u001b[0m\n\u001b[1;32m-> 1971\u001b[1;33m             raise TypeError(\n\u001b[0m\u001b[0;32m   1972\u001b[0m                 \u001b[1;34mf\"Cannot compare types {repr(type_names[0])} and {repr(type_names[1])}\"\u001b[0m\u001b[1;33m\u001b[0m\u001b[1;33m\u001b[0m\u001b[0m\n\u001b[0;32m   1973\u001b[0m             )\n",
      "\u001b[1;31mTypeError\u001b[0m: Cannot compare types 'ndarray(dtype=int64)' and 'str'"
     ]
    }
   ],
   "source": [
    "for col in yes_no_columns:\n",
    "    df1[col].replace({'Yes': 1, 'No': 0}, inplace=True)"
   ]
  },
  {
   "cell_type": "code",
   "execution_count": 11,
   "metadata": {
    "scrolled": true
   },
   "outputs": [
    {
     "name": "stdout",
     "output_type": "stream",
     "text": [
      "gender : ['Female' 'Male']\n",
      "InternetService : ['DSL' 'Fiber optic' 'No']\n",
      "Contract : ['Month-to-month' 'One year' 'Two year']\n",
      "PaymentMethod : ['Electronic check' 'Mailed check' 'Bank transfer (automatic)'\n",
      " 'Credit card (automatic)']\n"
     ]
    }
   ],
   "source": [
    "for column in df1:\n",
    "        if df1[column].dtypes=='object':\n",
    "            print(f'{column} : {df1[column].unique()}')"
   ]
  },
  {
   "cell_type": "code",
   "execution_count": 12,
   "metadata": {},
   "outputs": [],
   "source": [
    "df1['gender'].replace({'Female': 1, 'Male': 0}, inplace=True)"
   ]
  },
  {
   "cell_type": "code",
   "execution_count": 13,
   "metadata": {},
   "outputs": [],
   "source": [
    "df2 = pd.get_dummies(data=df1, columns=['InternetService', 'Contract', 'PaymentMethod'])\n",
    "cols_to_scale = ['tenure', 'MonthlyCharges', 'TotalCharges']"
   ]
  },
  {
   "cell_type": "code",
   "execution_count": 14,
   "metadata": {},
   "outputs": [],
   "source": [
    "from sklearn.preprocessing import MinMaxScaler\n",
    "scaler = MinMaxScaler()\n",
    "\n",
    "df2[cols_to_scale] = scaler.fit_transform(df2[cols_to_scale])\n",
    "X = df2.drop('Churn', axis='columns')\n",
    "y = df2['Churn']"
   ]
  },
  {
   "cell_type": "code",
   "execution_count": 19,
   "metadata": {},
   "outputs": [],
   "source": [
    "from sklearn.model_selection import train_test_split\n",
    "X_train, X_test, y_train, y_test = train_test_split(X, y, test_size=0.2, random_state=5)"
   ]
  },
  {
   "cell_type": "code",
   "execution_count": 22,
   "metadata": {},
   "outputs": [],
   "source": [
    "def ANN(X_train, y_train, X_test, y_test, loss, weights):\n",
    "    \n",
    "    model = keras.Sequential([\n",
    "    keras.layers.Dense(26, input_dim=26, activation='relu'),\n",
    "    keras.layers.Dense(15, activation='relu'),\n",
    "    keras.layers.Dense(1, activation='sigmoid')\n",
    "        ])\n",
    "    \n",
    "    model.compile(optimizer='adam', loss=loss, metrics=['accuracy'])\n",
    "    \n",
    "    if weights == -1:\n",
    "        model.fit(X_train, y_train, epochs=100)\n",
    "    else:\n",
    "        model.fit(X_train, y_train, epochs=100, class_weight = weights)\n",
    "    \n",
    "    print(model.evaluate(X_test, y_test))\n",
    "    \n",
    "    y_preds = model.predict(X_test)\n",
    "    y_preds = np.round(y_preds)\n",
    "    \n",
    "    print(\"Classification Report: \\n\", classification_report(y_test, y_preds))\n",
    "    \n",
    "    return y_preds"
   ]
  },
  {
   "cell_type": "code",
   "execution_count": 24,
   "metadata": {},
   "outputs": [
    {
     "data": {
      "text/plain": [
       "0    999\n",
       "1    408\n",
       "Name: Churn, dtype: int64"
      ]
     },
     "execution_count": 24,
     "metadata": {},
     "output_type": "execute_result"
    }
   ],
   "source": [
    "y_test.value_counts()"
   ]
  },
  {
   "cell_type": "code",
   "execution_count": 23,
   "metadata": {
    "scrolled": true
   },
   "outputs": [
    {
     "name": "stdout",
     "output_type": "stream",
     "text": [
      "Epoch 1/100\n",
      "176/176 [==============================] - 1s 828us/step - loss: 0.4939 - accuracy: 0.7501\n",
      "Epoch 2/100\n",
      "176/176 [==============================] - 0s 896us/step - loss: 0.4245 - accuracy: 0.7966\n",
      "Epoch 3/100\n",
      "176/176 [==============================] - 0s 940us/step - loss: 0.4244 - accuracy: 0.7978\n",
      "Epoch 4/100\n",
      "176/176 [==============================] - 0s 866us/step - loss: 0.4151 - accuracy: 0.8032\n",
      "Epoch 5/100\n",
      "176/176 [==============================] - 0s 909us/step - loss: 0.4178 - accuracy: 0.8036\n",
      "Epoch 6/100\n",
      "176/176 [==============================] - 0s 884us/step - loss: 0.4092 - accuracy: 0.8125\n",
      "Epoch 7/100\n",
      "176/176 [==============================] - 0s 909us/step - loss: 0.3993 - accuracy: 0.8121\n",
      "Epoch 8/100\n",
      "176/176 [==============================] - 0s 845us/step - loss: 0.4102 - accuracy: 0.8119\n",
      "Epoch 9/100\n",
      "176/176 [==============================] - 0s 834us/step - loss: 0.4173 - accuracy: 0.7999\n",
      "Epoch 10/100\n",
      "176/176 [==============================] - 0s 829us/step - loss: 0.3969 - accuracy: 0.8118\n",
      "Epoch 11/100\n",
      "176/176 [==============================] - 0s 858us/step - loss: 0.4025 - accuracy: 0.8094\n",
      "Epoch 12/100\n",
      "176/176 [==============================] - 0s 852us/step - loss: 0.3975 - accuracy: 0.8184\n",
      "Epoch 13/100\n",
      "176/176 [==============================] - 0s 856us/step - loss: 0.4052 - accuracy: 0.8127\n",
      "Epoch 14/100\n",
      "176/176 [==============================] - 0s 834us/step - loss: 0.4016 - accuracy: 0.8178\n",
      "Epoch 15/100\n",
      "176/176 [==============================] - 0s 843us/step - loss: 0.4083 - accuracy: 0.8136\n",
      "Epoch 16/100\n",
      "176/176 [==============================] - 0s 852us/step - loss: 0.3980 - accuracy: 0.8141\n",
      "Epoch 17/100\n",
      "176/176 [==============================] - 0s 846us/step - loss: 0.3834 - accuracy: 0.8234\n",
      "Epoch 18/100\n",
      "176/176 [==============================] - 0s 904us/step - loss: 0.3949 - accuracy: 0.8156\n",
      "Epoch 19/100\n",
      "176/176 [==============================] - 0s 987us/step - loss: 0.3893 - accuracy: 0.8263\n",
      "Epoch 20/100\n",
      "176/176 [==============================] - 0s 953us/step - loss: 0.3917 - accuracy: 0.8138\n",
      "Epoch 21/100\n",
      "176/176 [==============================] - 0s 894us/step - loss: 0.3839 - accuracy: 0.8258\n",
      "Epoch 22/100\n",
      "176/176 [==============================] - 0s 895us/step - loss: 0.3751 - accuracy: 0.8294\n",
      "Epoch 23/100\n",
      "176/176 [==============================] - 0s 850us/step - loss: 0.3741 - accuracy: 0.8284\n",
      "Epoch 24/100\n",
      "176/176 [==============================] - 0s 943us/step - loss: 0.3852 - accuracy: 0.8221\n",
      "Epoch 25/100\n",
      "176/176 [==============================] - 0s 921us/step - loss: 0.3885 - accuracy: 0.8201\n",
      "Epoch 26/100\n",
      "176/176 [==============================] - 0s 1ms/step - loss: 0.3838 - accuracy: 0.8195\n",
      "Epoch 27/100\n",
      "176/176 [==============================] - 0s 1ms/step - loss: 0.3913 - accuracy: 0.8200\n",
      "Epoch 28/100\n",
      "176/176 [==============================] - 0s 1ms/step - loss: 0.3793 - accuracy: 0.8212\n",
      "Epoch 29/100\n",
      "176/176 [==============================] - 0s 1ms/step - loss: 0.3803 - accuracy: 0.8202\n",
      "Epoch 30/100\n",
      "176/176 [==============================] - 0s 989us/step - loss: 0.3770 - accuracy: 0.8207\n",
      "Epoch 31/100\n",
      "176/176 [==============================] - 0s 1ms/step - loss: 0.3786 - accuracy: 0.8274\n",
      "Epoch 32/100\n",
      "176/176 [==============================] - 0s 857us/step - loss: 0.3736 - accuracy: 0.8240\n",
      "Epoch 33/100\n",
      "176/176 [==============================] - 0s 893us/step - loss: 0.3792 - accuracy: 0.8259\n",
      "Epoch 34/100\n",
      "176/176 [==============================] - 0s 869us/step - loss: 0.3826 - accuracy: 0.8241\n",
      "Epoch 35/100\n",
      "176/176 [==============================] - 0s 859us/step - loss: 0.3783 - accuracy: 0.8237\n",
      "Epoch 36/100\n",
      "176/176 [==============================] - 0s 892us/step - loss: 0.3866 - accuracy: 0.8199\n",
      "Epoch 37/100\n",
      "176/176 [==============================] - 0s 895us/step - loss: 0.3822 - accuracy: 0.8229\n",
      "Epoch 38/100\n",
      "176/176 [==============================] - 0s 860us/step - loss: 0.3717 - accuracy: 0.8277\n",
      "Epoch 39/100\n",
      "176/176 [==============================] - 0s 840us/step - loss: 0.3800 - accuracy: 0.8208\n",
      "Epoch 40/100\n",
      "176/176 [==============================] - 0s 885us/step - loss: 0.3798 - accuracy: 0.8202\n",
      "Epoch 41/100\n",
      "176/176 [==============================] - 0s 873us/step - loss: 0.3663 - accuracy: 0.8323\n",
      "Epoch 42/100\n",
      "176/176 [==============================] - 0s 850us/step - loss: 0.3763 - accuracy: 0.8219\n",
      "Epoch 43/100\n",
      "176/176 [==============================] - 0s 856us/step - loss: 0.3664 - accuracy: 0.8379\n",
      "Epoch 44/100\n",
      "176/176 [==============================] - 0s 1ms/step - loss: 0.3669 - accuracy: 0.8328\n",
      "Epoch 45/100\n",
      "176/176 [==============================] - 0s 906us/step - loss: 0.3755 - accuracy: 0.8220\n",
      "Epoch 46/100\n",
      "176/176 [==============================] - 0s 864us/step - loss: 0.3651 - accuracy: 0.8295\n",
      "Epoch 47/100\n",
      "176/176 [==============================] - 0s 826us/step - loss: 0.3663 - accuracy: 0.8316\n",
      "Epoch 48/100\n",
      "176/176 [==============================] - 0s 889us/step - loss: 0.3598 - accuracy: 0.8291\n",
      "Epoch 49/100\n",
      "176/176 [==============================] - 0s 827us/step - loss: 0.3598 - accuracy: 0.8327\n",
      "Epoch 50/100\n",
      "176/176 [==============================] - 0s 912us/step - loss: 0.3590 - accuracy: 0.8315\n",
      "Epoch 51/100\n",
      "176/176 [==============================] - 0s 854us/step - loss: 0.3593 - accuracy: 0.8359\n",
      "Epoch 52/100\n",
      "176/176 [==============================] - 0s 939us/step - loss: 0.3687 - accuracy: 0.8267\n",
      "Epoch 53/100\n",
      "176/176 [==============================] - 0s 944us/step - loss: 0.3673 - accuracy: 0.8265\n",
      "Epoch 54/100\n",
      "176/176 [==============================] - 0s 953us/step - loss: 0.3607 - accuracy: 0.8349\n",
      "Epoch 55/100\n",
      "176/176 [==============================] - 0s 939us/step - loss: 0.3630 - accuracy: 0.8317\n",
      "Epoch 56/100\n",
      "176/176 [==============================] - 0s 938us/step - loss: 0.3681 - accuracy: 0.8226\n",
      "Epoch 57/100\n",
      "176/176 [==============================] - 0s 874us/step - loss: 0.3619 - accuracy: 0.8329\n",
      "Epoch 58/100\n",
      "176/176 [==============================] - 0s 901us/step - loss: 0.3694 - accuracy: 0.8224\n",
      "Epoch 59/100\n",
      "176/176 [==============================] - 0s 841us/step - loss: 0.3586 - accuracy: 0.8356\n",
      "Epoch 60/100\n",
      "176/176 [==============================] - 0s 859us/step - loss: 0.3669 - accuracy: 0.8296\n",
      "Epoch 61/100\n",
      "176/176 [==============================] - 0s 990us/step - loss: 0.3589 - accuracy: 0.8291\n",
      "Epoch 62/100\n",
      "176/176 [==============================] - 0s 1ms/step - loss: 0.3582 - accuracy: 0.8369\n",
      "Epoch 63/100\n",
      "176/176 [==============================] - 0s 992us/step - loss: 0.3538 - accuracy: 0.8354\n",
      "Epoch 64/100\n",
      "176/176 [==============================] - 0s 890us/step - loss: 0.3526 - accuracy: 0.8390\n",
      "Epoch 65/100\n",
      "176/176 [==============================] - 0s 814us/step - loss: 0.3500 - accuracy: 0.8399\n",
      "Epoch 66/100\n",
      "176/176 [==============================] - 0s 780us/step - loss: 0.3599 - accuracy: 0.8321\n",
      "Epoch 67/100\n",
      "176/176 [==============================] - 0s 818us/step - loss: 0.3474 - accuracy: 0.8456\n",
      "Epoch 68/100\n",
      "176/176 [==============================] - 0s 794us/step - loss: 0.3536 - accuracy: 0.8376\n",
      "Epoch 69/100\n",
      "176/176 [==============================] - 0s 803us/step - loss: 0.3552 - accuracy: 0.8304\n",
      "Epoch 70/100\n",
      "176/176 [==============================] - 0s 750us/step - loss: 0.3610 - accuracy: 0.8325\n",
      "Epoch 71/100\n",
      "176/176 [==============================] - 0s 763us/step - loss: 0.3532 - accuracy: 0.8391\n",
      "Epoch 72/100\n",
      "176/176 [==============================] - 0s 886us/step - loss: 0.3468 - accuracy: 0.8344\n",
      "Epoch 73/100\n",
      "176/176 [==============================] - 0s 947us/step - loss: 0.3514 - accuracy: 0.8389\n",
      "Epoch 74/100\n",
      "176/176 [==============================] - 0s 820us/step - loss: 0.3590 - accuracy: 0.8267\n",
      "Epoch 75/100\n",
      "176/176 [==============================] - 0s 931us/step - loss: 0.3481 - accuracy: 0.8384\n",
      "Epoch 76/100\n",
      "176/176 [==============================] - 0s 924us/step - loss: 0.3407 - accuracy: 0.8438\n",
      "Epoch 77/100\n",
      "176/176 [==============================] - 0s 959us/step - loss: 0.3518 - accuracy: 0.8283\n",
      "Epoch 78/100\n",
      "176/176 [==============================] - 0s 1ms/step - loss: 0.3478 - accuracy: 0.8359\n",
      "Epoch 79/100\n",
      "176/176 [==============================] - 0s 943us/step - loss: 0.3413 - accuracy: 0.8385\n",
      "Epoch 80/100\n"
     ]
    },
    {
     "name": "stdout",
     "output_type": "stream",
     "text": [
      "176/176 [==============================] - 0s 925us/step - loss: 0.3443 - accuracy: 0.8348\n",
      "Epoch 81/100\n",
      "176/176 [==============================] - 0s 924us/step - loss: 0.3470 - accuracy: 0.8336\n",
      "Epoch 82/100\n",
      "176/176 [==============================] - 0s 884us/step - loss: 0.3482 - accuracy: 0.8369\n",
      "Epoch 83/100\n",
      "176/176 [==============================] - 0s 861us/step - loss: 0.3552 - accuracy: 0.8255\n",
      "Epoch 84/100\n",
      "176/176 [==============================] - 0s 921us/step - loss: 0.3402 - accuracy: 0.8382\n",
      "Epoch 85/100\n",
      "176/176 [==============================] - 0s 890us/step - loss: 0.3393 - accuracy: 0.8415\n",
      "Epoch 86/100\n",
      "176/176 [==============================] - 0s 897us/step - loss: 0.3415 - accuracy: 0.8373\n",
      "Epoch 87/100\n",
      "176/176 [==============================] - 0s 933us/step - loss: 0.3501 - accuracy: 0.8373\n",
      "Epoch 88/100\n",
      "176/176 [==============================] - 0s 963us/step - loss: 0.3385 - accuracy: 0.8458\n",
      "Epoch 89/100\n",
      "176/176 [==============================] - 0s 883us/step - loss: 0.3496 - accuracy: 0.8303\n",
      "Epoch 90/100\n",
      "176/176 [==============================] - 0s 917us/step - loss: 0.3422 - accuracy: 0.8388\n",
      "Epoch 91/100\n",
      "176/176 [==============================] - 0s 865us/step - loss: 0.3410 - accuracy: 0.8400\n",
      "Epoch 92/100\n",
      "176/176 [==============================] - 0s 861us/step - loss: 0.3484 - accuracy: 0.8312\n",
      "Epoch 93/100\n",
      "176/176 [==============================] - 0s 885us/step - loss: 0.3517 - accuracy: 0.8362\n",
      "Epoch 94/100\n",
      "176/176 [==============================] - 0s 912us/step - loss: 0.3364 - accuracy: 0.8437\n",
      "Epoch 95/100\n",
      "176/176 [==============================] - 0s 857us/step - loss: 0.3551 - accuracy: 0.8334\n",
      "Epoch 96/100\n",
      "176/176 [==============================] - 0s 848us/step - loss: 0.3349 - accuracy: 0.8444\n",
      "Epoch 97/100\n",
      "176/176 [==============================] - 0s 882us/step - loss: 0.3490 - accuracy: 0.8322\n",
      "Epoch 98/100\n",
      "176/176 [==============================] - 0s 850us/step - loss: 0.3568 - accuracy: 0.8320\n",
      "Epoch 99/100\n",
      "176/176 [==============================] - 0s 877us/step - loss: 0.3374 - accuracy: 0.8445\n",
      "Epoch 100/100\n",
      "176/176 [==============================] - 0s 917us/step - loss: 0.3455 - accuracy: 0.8346\n",
      "44/44 [==============================] - 0s 829us/step - loss: 0.5028 - accuracy: 0.7761\n",
      "[0.5028048753738403, 0.7761194109916687]\n",
      "Classification Report: \n",
      "               precision    recall  f1-score   support\n",
      "\n",
      "           0       0.81      0.89      0.85       999\n",
      "           1       0.65      0.50      0.56       408\n",
      "\n",
      "    accuracy                           0.78      1407\n",
      "   macro avg       0.73      0.69      0.71      1407\n",
      "weighted avg       0.77      0.78      0.77      1407\n",
      "\n"
     ]
    }
   ],
   "source": [
    "y_preds = ANN(X_train, y_train, X_test, y_test, 'binary_crossentropy', -1)"
   ]
  },
  {
   "cell_type": "markdown",
   "metadata": {},
   "source": [
    "## Sampling"
   ]
  },
  {
   "cell_type": "code",
   "execution_count": 26,
   "metadata": {},
   "outputs": [],
   "source": [
    "# Class Count\n",
    "count_class_0, count_class_1 = df1.Churn.value_counts()\n",
    "\n",
    "# Divide by class\n",
    "df_class_0 = df2[df2['Churn'] == 0]\n",
    "df_class_1 = df2[df2['Churn'] == 1]"
   ]
  },
  {
   "cell_type": "code",
   "execution_count": 27,
   "metadata": {},
   "outputs": [
    {
     "data": {
      "text/plain": [
       "(5163, 27)"
      ]
     },
     "execution_count": 27,
     "metadata": {},
     "output_type": "execute_result"
    }
   ],
   "source": [
    "df_class_0.shape"
   ]
  },
  {
   "cell_type": "code",
   "execution_count": 28,
   "metadata": {},
   "outputs": [
    {
     "data": {
      "text/plain": [
       "(1869, 27)"
      ]
     },
     "execution_count": 28,
     "metadata": {},
     "output_type": "execute_result"
    }
   ],
   "source": [
    "df_class_1.shape"
   ]
  },
  {
   "cell_type": "markdown",
   "metadata": {},
   "source": [
    "## Undersampling"
   ]
  },
  {
   "cell_type": "code",
   "execution_count": 32,
   "metadata": {},
   "outputs": [
    {
     "name": "stdout",
     "output_type": "stream",
     "text": [
      "Random under_sample:\n",
      "1    1869\n",
      "0    1869\n",
      "Name: Churn, dtype: int64\n"
     ]
    }
   ],
   "source": [
    "# Getting creating proper sample size through count\n",
    "df_class_0_under = df_class_0.sample(count_class_1)\n",
    "\n",
    "df_test_under = pd.concat([df_class_0_under, df_class_1], axis=0)\n",
    "\n",
    "print('Random under_sample:')\n",
    "print(df_test_under.Churn.value_counts())"
   ]
  },
  {
   "cell_type": "code",
   "execution_count": 33,
   "metadata": {},
   "outputs": [],
   "source": [
    "X = df_test_under.drop('Churn', axis='columns')\n",
    "y = df_test_under['Churn']\n",
    "\n",
    "# Stratify makes sure there are balanced samples\n",
    "X_train, X_test, y_train, y_test = train_test_split(X, y, test_size=0.2, random_state=5, stratify=y)"
   ]
  },
  {
   "cell_type": "code",
   "execution_count": 34,
   "metadata": {},
   "outputs": [
    {
     "data": {
      "text/plain": [
       "1    1495\n",
       "0    1495\n",
       "Name: Churn, dtype: int64"
      ]
     },
     "execution_count": 34,
     "metadata": {},
     "output_type": "execute_result"
    }
   ],
   "source": [
    "y_train.value_counts()"
   ]
  },
  {
   "cell_type": "code",
   "execution_count": 35,
   "metadata": {},
   "outputs": [
    {
     "name": "stdout",
     "output_type": "stream",
     "text": [
      "Epoch 1/100\n",
      "94/94 [==============================] - 0s 723us/step - loss: 0.7027 - accuracy: 0.5670\n",
      "Epoch 2/100\n",
      "94/94 [==============================] - 0s 590us/step - loss: 0.5429 - accuracy: 0.7476\n",
      "Epoch 3/100\n",
      "94/94 [==============================] - 0s 525us/step - loss: 0.4924 - accuracy: 0.7708\n",
      "Epoch 4/100\n",
      "94/94 [==============================] - 0s 525us/step - loss: 0.4869 - accuracy: 0.7642\n",
      "Epoch 5/100\n",
      "94/94 [==============================] - 0s 530us/step - loss: 0.4603 - accuracy: 0.7728\n",
      "Epoch 6/100\n",
      "94/94 [==============================] - 0s 536us/step - loss: 0.4805 - accuracy: 0.7601\n",
      "Epoch 7/100\n",
      "94/94 [==============================] - 0s 525us/step - loss: 0.4704 - accuracy: 0.7752\n",
      "Epoch 8/100\n",
      "94/94 [==============================] - 0s 558us/step - loss: 0.4741 - accuracy: 0.7567\n",
      "Epoch 9/100\n",
      "94/94 [==============================] - 0s 536us/step - loss: 0.4774 - accuracy: 0.7647\n",
      "Epoch 10/100\n",
      "94/94 [==============================] - 0s 556us/step - loss: 0.4481 - accuracy: 0.7829\n",
      "Epoch 11/100\n",
      "94/94 [==============================] - 0s 566us/step - loss: 0.4618 - accuracy: 0.7786\n",
      "Epoch 12/100\n",
      "94/94 [==============================] - 0s 603us/step - loss: 0.4788 - accuracy: 0.7645\n",
      "Epoch 13/100\n",
      "94/94 [==============================] - 0s 536us/step - loss: 0.4622 - accuracy: 0.7742\n",
      "Epoch 14/100\n",
      "94/94 [==============================] - 0s 555us/step - loss: 0.4526 - accuracy: 0.7789\n",
      "Epoch 15/100\n",
      "94/94 [==============================] - 0s 525us/step - loss: 0.4535 - accuracy: 0.7802\n",
      "Epoch 16/100\n",
      "94/94 [==============================] - 0s 536us/step - loss: 0.4458 - accuracy: 0.7919\n",
      "Epoch 17/100\n",
      "94/94 [==============================] - 0s 557us/step - loss: 0.4608 - accuracy: 0.7694\n",
      "Epoch 18/100\n",
      "94/94 [==============================] - 0s 525us/step - loss: 0.4390 - accuracy: 0.7844\n",
      "Epoch 19/100\n",
      "94/94 [==============================] - 0s 536us/step - loss: 0.4526 - accuracy: 0.7865\n",
      "Epoch 20/100\n",
      "94/94 [==============================] - 0s 525us/step - loss: 0.4452 - accuracy: 0.7799\n",
      "Epoch 21/100\n",
      "94/94 [==============================] - 0s 515us/step - loss: 0.4488 - accuracy: 0.7831\n",
      "Epoch 22/100\n",
      "94/94 [==============================] - 0s 547us/step - loss: 0.4454 - accuracy: 0.7810\n",
      "Epoch 23/100\n",
      "94/94 [==============================] - 0s 536us/step - loss: 0.4501 - accuracy: 0.7810\n",
      "Epoch 24/100\n",
      "94/94 [==============================] - 0s 515us/step - loss: 0.4601 - accuracy: 0.7645\n",
      "Epoch 25/100\n",
      "94/94 [==============================] - 0s 527us/step - loss: 0.4467 - accuracy: 0.7789\n",
      "Epoch 26/100\n",
      "94/94 [==============================] - 0s 536us/step - loss: 0.4416 - accuracy: 0.7911\n",
      "Epoch 27/100\n",
      "94/94 [==============================] - 0s 557us/step - loss: 0.4314 - accuracy: 0.7880\n",
      "Epoch 28/100\n",
      "94/94 [==============================] - 0s 551us/step - loss: 0.4316 - accuracy: 0.7935\n",
      "Epoch 29/100\n",
      "94/94 [==============================] - 0s 536us/step - loss: 0.4363 - accuracy: 0.7910\n",
      "Epoch 30/100\n",
      "94/94 [==============================] - 0s 550us/step - loss: 0.4293 - accuracy: 0.7905\n",
      "Epoch 31/100\n",
      "94/94 [==============================] - 0s 638us/step - loss: 0.4358 - accuracy: 0.7961\n",
      "Epoch 32/100\n",
      "94/94 [==============================] - 0s 535us/step - loss: 0.4235 - accuracy: 0.8003\n",
      "Epoch 33/100\n",
      "94/94 [==============================] - 0s 585us/step - loss: 0.4176 - accuracy: 0.7964\n",
      "Epoch 34/100\n",
      "94/94 [==============================] - 0s 536us/step - loss: 0.4084 - accuracy: 0.8039\n",
      "Epoch 35/100\n",
      "94/94 [==============================] - 0s 549us/step - loss: 0.4192 - accuracy: 0.8001\n",
      "Epoch 36/100\n",
      "94/94 [==============================] - 0s 536us/step - loss: 0.4131 - accuracy: 0.8108\n",
      "Epoch 37/100\n",
      "94/94 [==============================] - 0s 542us/step - loss: 0.4284 - accuracy: 0.7994\n",
      "Epoch 38/100\n",
      "94/94 [==============================] - 0s 525us/step - loss: 0.4092 - accuracy: 0.8086\n",
      "Epoch 39/100\n",
      "94/94 [==============================] - 0s 534us/step - loss: 0.4158 - accuracy: 0.8025\n",
      "Epoch 40/100\n",
      "94/94 [==============================] - 0s 525us/step - loss: 0.4185 - accuracy: 0.8015\n",
      "Epoch 41/100\n",
      "94/94 [==============================] - 0s 533us/step - loss: 0.4132 - accuracy: 0.8101\n",
      "Epoch 42/100\n",
      "94/94 [==============================] - 0s 536us/step - loss: 0.4005 - accuracy: 0.8169\n",
      "Epoch 43/100\n",
      "94/94 [==============================] - 0s 544us/step - loss: 0.4055 - accuracy: 0.8100\n",
      "Epoch 44/100\n",
      "94/94 [==============================] - 0s 536us/step - loss: 0.3983 - accuracy: 0.8024\n",
      "Epoch 45/100\n",
      "94/94 [==============================] - 0s 525us/step - loss: 0.4116 - accuracy: 0.8099\n",
      "Epoch 46/100\n",
      "94/94 [==============================] - 0s 536us/step - loss: 0.4200 - accuracy: 0.8018\n",
      "Epoch 47/100\n",
      "94/94 [==============================] - 0s 543us/step - loss: 0.4062 - accuracy: 0.8074\n",
      "Epoch 48/100\n",
      "94/94 [==============================] - 0s 527us/step - loss: 0.3946 - accuracy: 0.8105\n",
      "Epoch 49/100\n",
      "94/94 [==============================] - 0s 554us/step - loss: 0.4000 - accuracy: 0.8123\n",
      "Epoch 50/100\n",
      "94/94 [==============================] - 0s 622us/step - loss: 0.4055 - accuracy: 0.8088\n",
      "Epoch 51/100\n",
      "94/94 [==============================] - 0s 533us/step - loss: 0.4095 - accuracy: 0.8050\n",
      "Epoch 52/100\n",
      "94/94 [==============================] - 0s 558us/step - loss: 0.3998 - accuracy: 0.8165\n",
      "Epoch 53/100\n",
      "94/94 [==============================] - 0s 568us/step - loss: 0.3880 - accuracy: 0.8136\n",
      "Epoch 54/100\n",
      "94/94 [==============================] - 0s 568us/step - loss: 0.4047 - accuracy: 0.8095\n",
      "Epoch 55/100\n",
      "94/94 [==============================] - ETA: 0s - loss: 0.4372 - accuracy: 0.75 - 0s 532us/step - loss: 0.3998 - accuracy: 0.8082\n",
      "Epoch 56/100\n",
      "94/94 [==============================] - 0s 528us/step - loss: 0.3999 - accuracy: 0.8182\n",
      "Epoch 57/100\n",
      "94/94 [==============================] - 0s 533us/step - loss: 0.3838 - accuracy: 0.8283\n",
      "Epoch 58/100\n",
      "94/94 [==============================] - 0s 528us/step - loss: 0.4052 - accuracy: 0.8110\n",
      "Epoch 59/100\n",
      "94/94 [==============================] - 0s 525us/step - loss: 0.3932 - accuracy: 0.8156\n",
      "Epoch 60/100\n",
      "94/94 [==============================] - 0s 520us/step - loss: 0.4015 - accuracy: 0.8166\n",
      "Epoch 61/100\n",
      "94/94 [==============================] - 0s 551us/step - loss: 0.3918 - accuracy: 0.8101\n",
      "Epoch 62/100\n",
      "94/94 [==============================] - 0s 559us/step - loss: 0.3721 - accuracy: 0.8238\n",
      "Epoch 63/100\n",
      "94/94 [==============================] - 0s 523us/step - loss: 0.3743 - accuracy: 0.8246\n",
      "Epoch 64/100\n",
      "94/94 [==============================] - 0s 526us/step - loss: 0.3854 - accuracy: 0.8247\n",
      "Epoch 65/100\n",
      "94/94 [==============================] - 0s 536us/step - loss: 0.3809 - accuracy: 0.8285\n",
      "Epoch 66/100\n",
      "94/94 [==============================] - 0s 556us/step - loss: 0.3786 - accuracy: 0.8292\n",
      "Epoch 67/100\n",
      "94/94 [==============================] - 0s 525us/step - loss: 0.3711 - accuracy: 0.8281\n",
      "Epoch 68/100\n",
      "94/94 [==============================] - 0s 536us/step - loss: 0.3819 - accuracy: 0.8305\n",
      "Epoch 69/100\n",
      "94/94 [==============================] - 0s 584us/step - loss: 0.3743 - accuracy: 0.8294\n",
      "Epoch 70/100\n",
      "94/94 [==============================] - 0s 536us/step - loss: 0.3667 - accuracy: 0.8340\n",
      "Epoch 71/100\n",
      "94/94 [==============================] - 0s 523us/step - loss: 0.3681 - accuracy: 0.8268\n",
      "Epoch 72/100\n",
      "94/94 [==============================] - 0s 525us/step - loss: 0.3828 - accuracy: 0.8244\n",
      "Epoch 73/100\n",
      "94/94 [==============================] - 0s 565us/step - loss: 0.3719 - accuracy: 0.8345\n",
      "Epoch 74/100\n",
      "94/94 [==============================] - 0s 547us/step - loss: 0.3586 - accuracy: 0.8373\n",
      "Epoch 75/100\n",
      "94/94 [==============================] - 0s 536us/step - loss: 0.3733 - accuracy: 0.8302\n",
      "Epoch 76/100\n",
      "94/94 [==============================] - 0s 560us/step - loss: 0.3809 - accuracy: 0.8240\n",
      "Epoch 77/100\n",
      "94/94 [==============================] - 0s 541us/step - loss: 0.3595 - accuracy: 0.8443\n",
      "Epoch 78/100\n",
      "94/94 [==============================] - 0s 515us/step - loss: 0.3768 - accuracy: 0.8221\n",
      "Epoch 79/100\n",
      "94/94 [==============================] - 0s 537us/step - loss: 0.3756 - accuracy: 0.8306\n",
      "Epoch 80/100\n",
      "94/94 [==============================] - 0s 554us/step - loss: 0.3656 - accuracy: 0.8331\n"
     ]
    },
    {
     "name": "stdout",
     "output_type": "stream",
     "text": [
      "Epoch 81/100\n",
      "94/94 [==============================] - 0s 536us/step - loss: 0.3762 - accuracy: 0.8343\n",
      "Epoch 82/100\n",
      "94/94 [==============================] - 0s 525us/step - loss: 0.3689 - accuracy: 0.8433\n",
      "Epoch 83/100\n",
      "94/94 [==============================] - 0s 528us/step - loss: 0.3566 - accuracy: 0.8383\n",
      "Epoch 84/100\n",
      "94/94 [==============================] - 0s 553us/step - loss: 0.3589 - accuracy: 0.8254\n",
      "Epoch 85/100\n",
      "94/94 [==============================] - 0s 525us/step - loss: 0.3614 - accuracy: 0.8395\n",
      "Epoch 86/100\n",
      "94/94 [==============================] - 0s 536us/step - loss: 0.3621 - accuracy: 0.8368\n",
      "Epoch 87/100\n",
      "94/94 [==============================] - 0s 525us/step - loss: 0.3621 - accuracy: 0.8387\n",
      "Epoch 88/100\n",
      "94/94 [==============================] - 0s 612us/step - loss: 0.3661 - accuracy: 0.8329\n",
      "Epoch 89/100\n",
      "94/94 [==============================] - 0s 525us/step - loss: 0.3667 - accuracy: 0.8351\n",
      "Epoch 90/100\n",
      "94/94 [==============================] - 0s 525us/step - loss: 0.3700 - accuracy: 0.8304\n",
      "Epoch 91/100\n",
      "94/94 [==============================] - 0s 521us/step - loss: 0.3684 - accuracy: 0.8339\n",
      "Epoch 92/100\n",
      "94/94 [==============================] - 0s 525us/step - loss: 0.3622 - accuracy: 0.8398\n",
      "Epoch 93/100\n",
      "94/94 [==============================] - 0s 536us/step - loss: 0.3596 - accuracy: 0.8319\n",
      "Epoch 94/100\n",
      "94/94 [==============================] - 0s 524us/step - loss: 0.3555 - accuracy: 0.8438\n",
      "Epoch 95/100\n",
      "94/94 [==============================] - 0s 525us/step - loss: 0.3467 - accuracy: 0.8431\n",
      "Epoch 96/100\n",
      "94/94 [==============================] - 0s 525us/step - loss: 0.3668 - accuracy: 0.8369\n",
      "Epoch 97/100\n",
      "94/94 [==============================] - 0s 525us/step - loss: 0.3609 - accuracy: 0.8371\n",
      "Epoch 98/100\n",
      "94/94 [==============================] - 0s 526us/step - loss: 0.3533 - accuracy: 0.8475\n",
      "Epoch 99/100\n",
      "94/94 [==============================] - 0s 521us/step - loss: 0.3520 - accuracy: 0.8403\n",
      "Epoch 100/100\n",
      "94/94 [==============================] - 0s 525us/step - loss: 0.3543 - accuracy: 0.8380\n",
      "24/24 [==============================] - 0s 564us/step - loss: 0.6039 - accuracy: 0.7353\n",
      "[0.6039395928382874, 0.7352941036224365]\n",
      "Classification Report: \n",
      "               precision    recall  f1-score   support\n",
      "\n",
      "           0       0.76      0.68      0.72       374\n",
      "           1       0.71      0.79      0.75       374\n",
      "\n",
      "    accuracy                           0.74       748\n",
      "   macro avg       0.74      0.74      0.73       748\n",
      "weighted avg       0.74      0.74      0.73       748\n",
      "\n"
     ]
    }
   ],
   "source": [
    "y_preds = ANN(X_train, y_train, X_test, y_test, 'binary_crossentropy', -1)\n",
    "# Notice improved f-1 score, because the data is now balanced"
   ]
  },
  {
   "cell_type": "code",
   "execution_count": null,
   "metadata": {},
   "outputs": [],
   "source": []
  }
 ],
 "metadata": {
  "kernelspec": {
   "display_name": "Python 3",
   "language": "python",
   "name": "python3"
  },
  "language_info": {
   "codemirror_mode": {
    "name": "ipython",
    "version": 3
   },
   "file_extension": ".py",
   "mimetype": "text/x-python",
   "name": "python",
   "nbconvert_exporter": "python",
   "pygments_lexer": "ipython3",
   "version": "3.8.5"
  }
 },
 "nbformat": 4,
 "nbformat_minor": 4
}
