{
 "cells": [
  {
   "cell_type": "code",
   "execution_count": null,
   "metadata": {},
   "outputs": [],
   "source": [
    "from bs4 import BeautifulSoup as soup\n",
    "from urllib.request import urlopen\n",
    "\n",
    "import numpy as np\n",
    "import pandas as pd\n",
    "import statsmodels.api as sm\n",
    "import matplotlib.pyplot as plt\n",
    "import seaborn as sns\n",
    "sns.set()"
   ]
  },
  {
   "cell_type": "code",
   "execution_count": null,
   "metadata": {},
   "outputs": [],
   "source": [
    "table_url = 'https://dota2.fandom.com/wiki/Table_of_hero_attributes'\n",
    "table_data = urlopen(table_url)\n",
    "table_html = table_data.read()\n",
    "table_data.close()\n",
    "\n",
    "page_soup = soup(table_html, 'html.parser')"
   ]
  },
  {
   "cell_type": "code",
   "execution_count": null,
   "metadata": {},
   "outputs": [],
   "source": [
    "print(page_soup.h1)"
   ]
  },
  {
   "cell_type": "code",
   "execution_count": null,
   "metadata": {},
   "outputs": [],
   "source": [
    "stat_table = page_soup.findAll('div', {'class': 'mw-parser-output'})\n",
    "print(stat_table[0])"
   ]
  },
  {
   "cell_type": "code",
   "execution_count": null,
   "metadata": {},
   "outputs": [],
   "source": [
    "table = stat_table[0].findAll('table', {})\n",
    "print(table)"
   ]
  },
  {
   "cell_type": "code",
   "execution_count": null,
   "metadata": {},
   "outputs": [],
   "source": [
    "headers = table[0].findAll('th', {})\n",
    "print(headers)"
   ]
  },
  {
   "cell_type": "code",
   "execution_count": null,
   "metadata": {},
   "outputs": [],
   "source": [
    "header_titles = []\n",
    "for header in headers:\n",
    "    header_titles.append(header.text[:-1])\n",
    "print(header_titles)"
   ]
  },
  {
   "cell_type": "code",
   "execution_count": null,
   "metadata": {},
   "outputs": [],
   "source": [
    "all_rows = table[0].findAll('tr', {})\n",
    "print(all_rows)"
   ]
  },
  {
   "cell_type": "code",
   "execution_count": null,
   "metadata": {},
   "outputs": [],
   "source": [
    "data = all_rows[1:]\n",
    "print(data[0])"
   ]
  },
  {
   "cell_type": "code",
   "execution_count": null,
   "metadata": {},
   "outputs": [],
   "source": [
    "x_str = []\n",
    "x_agi = []\n",
    "x_int = []\n",
    "\n",
    "max_str_gain = 0.0\n",
    "max_agi_gain = 0.0\n",
    "max_int_gain = 0.0\n",
    "\n",
    "max_hero_str_gain = ''\n",
    "max_hero_agi_gain = ''\n",
    "max_hero_int_gain = ''\n",
    "\n",
    "min_str_gain = 10.0\n",
    "min_agi_gain = 10.0\n",
    "min_int_gain = 10.0\n",
    "\n",
    "min_hero_str_gain = ''\n",
    "min_hero_agi_gain = ''\n",
    "min_hero_int_gain = ''\n",
    "\n",
    "avg_str_gain = 0.0\n",
    "avg_agi_gain = 0.0\n",
    "avg_int_gain = 0.0\n",
    "\n",
    "list_list = []\n",
    "\n",
    "for row in data:\n",
    "    row_data = row.findAll('td', {})\n",
    "    row_texts = []\n",
    "    for data_text in row_data:\n",
    "        row_texts.append(data_text.text[:-1])\n",
    "    list_list.append(row_texts)\n",
    "\n",
    "for item in list_list:\n",
    "    \n",
    "    x_str.append(item[3])\n",
    "    x_agi.append(item[6])\n",
    "    x_int.append(item[9])\n",
    "    \n",
    "    \n",
    "    avg_str_gain += float(item[3])\n",
    "    avg_agi_gain += float(item[6])\n",
    "    avg_int_gain += float(item[9])\n",
    "    \n",
    "    if float(item[3]) > max_str_gain:\n",
    "        max_str_gain = float(item[3])\n",
    "        max_hero_str_gain = item[0]\n",
    "    if float(item[6]) > max_agi_gain:\n",
    "        max_agi_gain = float(item[6])\n",
    "        max_hero_agi_gain = item[0]\n",
    "    if float(item[9]) > max_int_gain:\n",
    "        max_int_gain = float(item[9])\n",
    "        max_hero_int_gain = item[0]\n",
    "        \n",
    "avg_str_gain = avg_str_gain / len(list_list)\n",
    "avg_agi_gain = avg_agi_gain / len(list_list)\n",
    "avg_int_gain = avg_int_gain / len(list_list)\n",
    "        \n",
    "    #print(item)\n",
    "print(\"Avg Str Gain:\", round(avg_str_gain, 2))\n",
    "print(\"Avg Agi Gain:\", round(avg_agi_gain, 2))\n",
    "print(\"Avg Int Gain:\", round(avg_int_gain, 2))\n",
    "print(\"\\n\")\n",
    "print(\"Max Str Gain:\", max_hero_str_gain, \": \", max_str_gain)\n",
    "print(\"Max Agi Gain:\", max_hero_agi_gain, \": \", max_agi_gain)\n",
    "print(\"Max Int Gain:\", max_hero_int_gain, \": \", max_int_gain)"
   ]
  },
  {
   "cell_type": "code",
   "execution_count": null,
   "metadata": {
    "scrolled": true
   },
   "outputs": [],
   "source": [
    "x_str"
   ]
  },
  {
   "cell_type": "code",
   "execution_count": null,
   "metadata": {},
   "outputs": [],
   "source": [
    "N = 50\n",
    "x = x_str\n",
    "y = [0, 0.5, 1, 1.5, 2, 2.5, 3, 3.5, 4, 4.5, 5, 5.5]\n",
    "colors = np.random.rand(N)\n",
    "#area = (30 * np.random.rand(N))**2  # 0 to 15 point radii\n",
    "\n",
    "plt.scatter(x, y, c=colors, alpha=0.5)\n",
    "plt.show()"
   ]
  },
  {
   "cell_type": "code",
   "execution_count": null,
   "metadata": {
    "scrolled": true
   },
   "outputs": [],
   "source": [
    "# STR Histogram\n",
    "x = x_str\n",
    "\n",
    "num_bins = 25\n",
    "n, bins, patches = plt.hist(x, num_bins, facecolor='blue', alpha=0.5)\n",
    "plt.show()"
   ]
  },
  {
   "cell_type": "code",
   "execution_count": null,
   "metadata": {
    "scrolled": false
   },
   "outputs": [],
   "source": [
    "# AGI Histogram\n",
    "\n",
    "x_agi = x_agi\n",
    "\n",
    "num_bins = 25\n",
    "n, bins, patches = plt.hist(x_agi, num_bins, facecolor='blue', alpha=0.5)\n",
    "plt.show()"
   ]
  },
  {
   "cell_type": "code",
   "execution_count": null,
   "metadata": {},
   "outputs": [],
   "source": [
    "# INT Histogram\n",
    "num_bins = 11\n",
    "n, bins, patches = plt.hist(x_int, num_bins, facecolor='blue', alpha=0.5)\n",
    "plt.show()"
   ]
  },
  {
   "cell_type": "code",
   "execution_count": null,
   "metadata": {
    "scrolled": true
   },
   "outputs": [],
   "source": [
    "data_texts"
   ]
  },
  {
   "cell_type": "code",
   "execution_count": null,
   "metadata": {
    "scrolled": true
   },
   "outputs": [],
   "source": [
    "# S:3, A:6, I:9\n",
    "data_texts = []\n",
    "for data_text in first_row_data:\n",
    "    data_texts.append(data_text.text[:-1])\n",
    "print(data_texts)"
   ]
  },
  {
   "cell_type": "code",
   "execution_count": null,
   "metadata": {},
   "outputs": [],
   "source": [
    "list_list = []\n"
   ]
  },
  {
   "cell_type": "code",
   "execution_count": null,
   "metadata": {},
   "outputs": [],
   "source": [
    "max_str_gain = 0\n",
    "max_agi_gain = 0\n",
    "max_int_gain = 0\n",
    "\n",
    "max_hero_str_gain = ''\n",
    "max_hero_agi_gain = ''\n",
    "max_hero_int_gain = ''"
   ]
  },
  {
   "cell_type": "code",
   "execution_count": null,
   "metadata": {},
   "outputs": [],
   "source": [
    "data_texts = []\n",
    "for hero in data:\n",
    "    row_data = hero.findAll('td', {})\n",
    "    for data_text in row_data:\n",
    "        data_texts.append(data_text.text[:-1])\n",
    "    print(data_texts)"
   ]
  },
  {
   "cell_type": "code",
   "execution_count": null,
   "metadata": {},
   "outputs": [],
   "source": [
    "table_rows = []\n",
    "for row in data:\n",
    "    table_row = []\n",
    "    row_data = row.findAll('td', {})\n",
    "    for data_point in row_data:\n",
    "        table_row.append(data_point.text[:-1])\n",
    "    table_rows.append(table_row)\n",
    "print(table_rows)"
   ]
  },
  {
   "cell_type": "code",
   "execution_count": null,
   "metadata": {},
   "outputs": [],
   "source": [
    "filename = 'stat_table.csv'\n",
    "f = open(filename, 'w', encoding=\"utf-8\")\n",
    "\n",
    "header_string = ''                 # create an empty array\n",
    "for title in header_titles:        # loop through the members of header_titles\n",
    "    header_string += title + ','   # add each title, plus a comma, to header_string\n",
    "    \n",
    "header_string = header_string[:-1] # remove final comma\n",
    "header_string += '\\n'              # add a new line\n",
    "    \n",
    "f.write(header_string)\n",
    "\n",
    "for row in table_rows:             # for each row in table_rows\n",
    "    row_string = ''                # do like we did in header_string\n",
    "    for column in row:\n",
    "        column_string = column.replace(',','')\n",
    "        row_string += column_string + ','\n",
    "    row_string = row_string[:-1]\n",
    "    row_string += '\\n'\n",
    "    \n",
    "    f.write(row_string)\n",
    "\n",
    "f.close()"
   ]
  },
  {
   "cell_type": "code",
   "execution_count": null,
   "metadata": {},
   "outputs": [],
   "source": []
  }
 ],
 "metadata": {
  "kernelspec": {
   "display_name": "Python 3",
   "language": "python",
   "name": "python3"
  },
  "language_info": {
   "codemirror_mode": {
    "name": "ipython",
    "version": 3
   },
   "file_extension": ".py",
   "mimetype": "text/x-python",
   "name": "python",
   "nbconvert_exporter": "python",
   "pygments_lexer": "ipython3",
   "version": "3.8.5"
  }
 },
 "nbformat": 4,
 "nbformat_minor": 4
}
