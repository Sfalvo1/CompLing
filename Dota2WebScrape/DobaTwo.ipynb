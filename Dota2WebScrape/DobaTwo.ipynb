{
 "cells": [
  {
   "cell_type": "code",
   "execution_count": null,
   "metadata": {},
   "outputs": [],
   "source": [
    "import random\n",
    "import json\n",
    "from bs4 import BeautifulSoup as soup\n",
    "from urllib.request import urlopen\n",
    "\n",
    "import spacy\n",
    "from spacy.lang.en import English\n",
    "from spacy.matcher import Matcher\n",
    "from spacy import displacy"
   ]
  },
  {
   "cell_type": "code",
   "execution_count": null,
   "metadata": {},
   "outputs": [],
   "source": [
    "heroes_url = \"https://dota2.gamepedia.com/Heroes\"\n",
    "hero_data = urlopen(heroes_url)\n",
    "hero_html = hero_data.read()\n",
    "hero_data.close()\n",
    "\n",
    "page_soup = soup(hero_html, 'html.parser')"
   ]
  },
  {
   "cell_type": "code",
   "execution_count": null,
   "metadata": {
    "scrolled": false
   },
   "outputs": [],
   "source": [
    "hero_table = page_soup.findAll('div', {'class': 'mw-parser-output'})"
   ]
  },
  {
   "cell_type": "code",
   "execution_count": null,
   "metadata": {},
   "outputs": [],
   "source": [
    "hero_division = page_soup.find_all('a', {})"
   ]
  },
  {
   "cell_type": "code",
   "execution_count": null,
   "metadata": {},
   "outputs": [],
   "source": [
    "hero_list = []\n",
    "for hero in hero_division[14:]:\n",
    "    if hero['title'] == \"Unreleased Content\":\n",
    "        break\n",
    "    elif hero['title'] == \"Agility\" or hero['title'] == \"Intelligence\" or hero['title'] == \"Stength\":\n",
    "        continue\n",
    "    else:\n",
    "        hero_list.append(hero['title'])\n",
    "        #print(hero['title'])\n",
    "#print(hero_list)\n",
    "#print(len(hero_list))\n",
    "hero_list.sort()\n"
   ]
  },
  {
   "cell_type": "code",
   "execution_count": 50,
   "metadata": {},
   "outputs": [],
   "source": [
    "def add_hero_pattern(hero):\n",
    "    pattern = [{\"TEXT\": hero}]\n",
    "    matcher.add(\"HERO\", None, pattern)"
   ]
  },
  {
   "cell_type": "code",
   "execution_count": 51,
   "metadata": {
    "scrolled": false
   },
   "outputs": [
    {
     "name": "stdout",
     "output_type": "stream",
     "text": [
      "None\n"
     ]
    }
   ],
   "source": [
    "add_hero_pattern(hero_list[0])\n",
    "print(matcher.get(0))"
   ]
  },
  {
   "cell_type": "code",
   "execution_count": null,
   "metadata": {},
   "outputs": [],
   "source": [
    "filename = 'HeroList.csv'\n",
    "f = open(filename, 'w')\n",
    "\n",
    "for hero in hero_list:\n",
    "    f.write(hero)\n",
    "    f.write(',')"
   ]
  },
  {
   "cell_type": "code",
   "execution_count": null,
   "metadata": {},
   "outputs": [],
   "source": [
    "nlp = spacy.load(\"en_core_web_sm\")\n",
    "doc = nlp(\"Axe and Abaddon will take bottom lane against Zeus and Void Spirit\")"
   ]
  },
  {
   "cell_type": "code",
   "execution_count": null,
   "metadata": {},
   "outputs": [],
   "source": [
    "patterns = list(nlp.pipe(hero_list))"
   ]
  },
  {
   "cell_type": "code",
   "execution_count": null,
   "metadata": {},
   "outputs": [],
   "source": [
    "matcher = Matcher(nlp.vocab)\n",
    "\n",
    "#pattern = [{\"TEXT\": \"iPhone\"}, {\"TEXT\": \"X\"}]\n",
    "#matcher.add(\"IPHONE_PATTERN\", None, pattern)\n",
    "\n",
    "pattern = [{\"TEXT\": \"Axe\"}]\n",
    "matcher.add(\"AXE\", None, pattern)\n",
    "\n",
    "matches = matcher(doc)\n",
    "\n",
    "#matcher.add(\"HERO\", None, *patterns)"
   ]
  },
  {
   "cell_type": "code",
   "execution_count": null,
   "metadata": {},
   "outputs": [],
   "source": [
    "#print(matches.text)\n",
    "print(hero_list)"
   ]
  },
  {
   "cell_type": "code",
   "execution_count": null,
   "metadata": {},
   "outputs": [],
   "source": [
    "matches = matcher(doc)\n",
    "print([doc[start:end] for match_id, start, end in matches])"
   ]
  },
  {
   "cell_type": "code",
   "execution_count": null,
   "metadata": {},
   "outputs": [],
   "source": [
    "displacy.render(doc, style = \"ent\", jupyter=True)"
   ]
  },
  {
   "cell_type": "code",
   "execution_count": null,
   "metadata": {},
   "outputs": [],
   "source": [
    "for word in doc:\n",
    "    print(word.text, word.pos_)"
   ]
  },
  {
   "cell_type": "code",
   "execution_count": null,
   "metadata": {},
   "outputs": [],
   "source": [
    "matcher = Matcher(nlp.vocab)"
   ]
  },
  {
   "cell_type": "code",
   "execution_count": null,
   "metadata": {},
   "outputs": [],
   "source": [
    "# Create match patterns\n",
    "pattern1 = [{\"TEXT\": \"Axe\"}]\n",
    "pattern2 = [{\"TEXT\": \"Void\", \"TEXT\": \"Spirit\"}]\n",
    "pattern3 = [{\"LOWER\": \"strength\"}]"
   ]
  },
  {
   "cell_type": "code",
   "execution_count": null,
   "metadata": {},
   "outputs": [],
   "source": [
    "# Add match patterns\n",
    "matcher.add(\"HERO\", None, pattern1, pattern2)"
   ]
  },
  {
   "cell_type": "code",
   "execution_count": null,
   "metadata": {},
   "outputs": [],
   "source": [
    "matcher.add(\"ATTRIBUTE\", None, pattern3)\n",
    "print(len(matcher))\n",
    "#matcher.remove(\"IPHONE_PATTERN\")"
   ]
  },
  {
   "cell_type": "code",
   "execution_count": null,
   "metadata": {},
   "outputs": [],
   "source": [
    "# Create training data here\n",
    "TEXTS = [\n",
    "    'Axe and Slardar are strength heroes',\n",
    "    'Hoodwink and Juggernaut are agility heroes',\n",
    "    'Zeus and Void Spirit are intelligence heroes',\n",
    "    'Riki is an agility hero',\n",
    "    'Dragon Knight is a strength hero',\n",
    "    'Storm Spirit is an intelligence hero',\n",
    "    'Anti-Mage counters Skywrath Mage',\n",
    "    'Zeus counters Riki',\n",
    "    'Axe went bottom lane against Pudge',\n",
    "    'Zeus tends to go to the middle lane'\n",
    "]"
   ]
  },
  {
   "cell_type": "code",
   "execution_count": null,
   "metadata": {},
   "outputs": [],
   "source": [
    "TRAINING_DATA = []\n",
    "\n",
    "# Create Doc objects for each text in TEXTS\n",
    "for doc in nlp.pipe(TEXTS):\n",
    "    # Match on the doc and create a list of matched spans\n",
    "    spans = [doc[start:end] for match_id, start, end in matcher(doc)]\n",
    "    # Get (start character, end character, label) tuples of matches\n",
    "    entities = [(span.start_char, span.end_char, \"HERO\") for span in spans]\n",
    "    # Format matches as a (doc.text, entities) tuple\n",
    "    training_example = (doc.text, {\"entities\": entities})\n",
    "    # Append the example to the training data\n",
    "    TRAINING_DATA.append(training_example)\n",
    "\n",
    "print(*TRAINING_DATA, sep=\"\\n\")"
   ]
  },
  {
   "cell_type": "code",
   "execution_count": null,
   "metadata": {},
   "outputs": [],
   "source": [
    "# Test run examples here\n",
    "string = 'Axe went bottom lane against Pudge'\n",
    "find_string = 'Pudge'\n",
    "print(string.find(find_string), string.find(find_string) + len(find_string))"
   ]
  },
  {
   "cell_type": "code",
   "execution_count": null,
   "metadata": {},
   "outputs": [],
   "source": [
    "TRAINING_DATA_TEST = [\n",
    "    (\n",
    "        \"Reddit partners with Patreon to help creators build communities\",\n",
    "        {\"entities\": [(0, 6, \"WEBSITE\"), (21, 28, \"WEBSITE\")]},\n",
    "    ),\n",
    "]\n",
    "\n",
    "TRAINING_DATA_ENT_TEST = [\n",
    "        [\"Axe and Slardar are strength heroes\", {\"entities\": [(0,4,\"HERO\"), (8,15,\"HERO\"), (20, 28, \"ATTRIBUTE\")]}],\n",
    "        [\"Hoodwink and Juggernaut are agility heroes\", {\"entities\": [(0,9, \"HERO\"), (14,24,\"HERO\"), (29,36, \"ATTRIBUTE\")]}],\n",
    "        [\"Zeus and Void Spirit are intelligence heroes\", {\"entities\": [(0,5,\"HERO\"), (9,20,\"HERO\"), (25,37,\"ATTRIBUTE\")]}],\n",
    "        [\"Riki is an agility hero\", {\"entities\": [(0,4,\"HERO\"), (11,18,\"ATTRIBUTE\")]}],\n",
    "        [\"Dragon Knight is a strength hero\", {\"entities\": [(0,13,\"HERO\"), (11,18,\"ATTRIBUTE\")]}],\n",
    "        [\"Storm Spirit is an intelligence hero\", {\"entities\": [(0,12,\"HERO\"), (19,31,\"ATTRIBUTE\")]}],\n",
    "        [\"Anti-Mage counters Skywrath Mage\", {\"entities\": [(0,9,\"HERO\"), (19,31,\"ATTRIBUTE\")]}],\n",
    "        [\"Zeus counters Riki\", {\"entities\": [(0,4,\"HERO\"), (14,18,\"HERO\")]}],\n",
    "        [\"Axe went bottom lane against Pudge\", {\"entities\": [(0,3,\"HERO\"), (29,34,\"HERO\")]}],\n",
    "        [\"Zeus tends to go to the middle lane\", {\"entities\": [(0,4,\"HERO\")]}],\n",
    "]\n",
    "\n",
    "#json_string = json.dumps(TRAINING_DATA_ENT_TEST)\n",
    "#print(json_string)\n",
    "\n",
    "with open('heroentlist.json', 'w') as j:\n",
    "    json.dump(TRAINING_DATA_ENT_TEST, j)\n"
   ]
  },
  {
   "cell_type": "code",
   "execution_count": null,
   "metadata": {},
   "outputs": [],
   "source": [
    "TRAINING_DATA_ENT = [\n",
    "    (\n",
    "        \"Axe and Slardar are strength heroes\", {\"entities\": [(0,4,\"HERO\"), (8,15,\"HERO\"), (20, 28, \"ATTRIBUTE\")]},\n",
    "        \"Hoodwink and Juggernaut are agility heroes\", {\"entities\": [(0,9, \"HERO\"), (14,24,\"HERO\"), (29,36, \"ATTRIBUTE\")]},\n",
    "        \"Zeus and Void Spirit are intelligence heroes\", {\"entities\": [(0,5,\"HERO\"), (9,20,\"HERO\"), (25,37,\"ATTRIBUTE\")]},\n",
    "        \"Riki is an agility hero\", {\"entities\": [(0,4,\"HERO\"), (11,18,\"ATTRIBUTE\")]},\n",
    "        \"Dragon Knight is a strength hero\", {\"entities\": [(0,13,\"HERO\"), (11,18,\"ATTRIBUTE\")]},\n",
    "        \"Storm Spirit is an intelligence hero\", {\"entities\": [(0,12,\"HERO\"), (19,31,\"ATTRIBUTE\")]},\n",
    "        \"Anti Mage counters Skywrath Mage\", {\"entities\": [(0,9,\"HERO\"), (19,31,\"ATTRIBUTE\")]},\n",
    "        \"Zeus counters Riki\", {\"entities\": [(0,4,\"HERO\"), (14,18,\"HERO\")]},\n",
    "        \"Axe went bottom lane against Pudge\", {\"entities\": [(0,3,\"HERO\"), (29,34,\"HERO\")]},\n",
    "        \"Zeus tends to go to the middle lane\", {\"entities\": [(0,4,\"HERO\")]},\n",
    "    ),\n",
    "]"
   ]
  },
  {
   "cell_type": "code",
   "execution_count": null,
   "metadata": {
    "scrolled": true
   },
   "outputs": [],
   "source": [
    "# From Chapter 4 Section 5\n",
    "# Create new pipeline\n",
    "\n",
    "with open(\"heroentlist.json\", encoding=\"utf8\") as h:\n",
    "    TRAINING_DATA = json.loads(h.read())\n",
    "\n",
    "# Save a model\n",
    "# nlp.to_disk(disk_path)\n",
    "\n",
    "# Example example:\n",
    "# ['How to preorder the iPhone X', {'entities': [[20, 28, 'GADGET']]}]\n",
    "# {\"entities\": [(0, 6, \"WEBSITE\"), (21, 28, \"WEBSITE\")]}\n",
    "\n",
    "# Create blank Enlgish model\n",
    "nlp = spacy.blank(\"en\")\n",
    "\n",
    "# Create blank entity recognizer and add it to pipeline\n",
    "ner = nlp.create_pipe(\"ner\")\n",
    "\n",
    "nlp.add_pipe(ner)\n",
    "\n",
    "# Add a new label\n",
    "ner.add_label(\"HERO\")\n",
    "ner.add_label(\"ABILITY\")\n",
    "ner.add_label(\"ATTRIBUTE\")\n",
    "\n",
    "# LABELS = [\"HERO\", \"ABILITY\", \"ATTRIBUTES\"]\n",
    "\n",
    "nlp.begin_training()\n",
    "\n",
    "# train for 10 iterations\n",
    "for itn in range(10):\n",
    "    # Shuffle the training data\n",
    "    random.shuffle(TRAINING_DATA)\n",
    "    losses = {}\n",
    "\n",
    "    # Batch the examples and iterate over them\n",
    "    for batch in spacy.util.minibatch(TRAINING_DATA, size=2):\n",
    "        texts = [text for text, entities in batch]\n",
    "        annotations = [entities for text, entities in batch]\n",
    "\n",
    "        # Update the model\n",
    "        nlp.update(texts, annotations, losses=losses)\n",
    "    print(losses)\n",
    "\n",
    "print(\"Job's done\")"
   ]
  },
  {
   "cell_type": "code",
   "execution_count": null,
   "metadata": {},
   "outputs": [],
   "source": [
    "matcher = Matcher(nlp.vocab)"
   ]
  },
  {
   "cell_type": "code",
   "execution_count": null,
   "metadata": {},
   "outputs": [],
   "source": [
    "# Create match patterns\n",
    "pattern1 = [{\"TEXT\": \"Axe\"}]\n",
    "pattern2 = [{\"TEXT\": \"Void\", \"TEXT\": \"Spirit\"}]\n",
    "pattern3 = [{\"LOWER\": \"strength\"}]"
   ]
  },
  {
   "cell_type": "code",
   "execution_count": null,
   "metadata": {},
   "outputs": [],
   "source": [
    "matcher.add(\"HERO\", None, pattern1, pattern2)\n",
    "matcher.add(\"ATTRIBUTE\", None, pattern3)"
   ]
  },
  {
   "cell_type": "code",
   "execution_count": 52,
   "metadata": {},
   "outputs": [
    {
     "name": "stdout",
     "output_type": "stream",
     "text": [
      "['ner']\n"
     ]
    }
   ],
   "source": [
    "print(nlp.pipe_names)"
   ]
  },
  {
   "cell_type": "code",
   "execution_count": null,
   "metadata": {},
   "outputs": [],
   "source": [
    "doc = nlp(\"Anti Mage fought Axe in the top lane\")\n",
    "\n",
    "matches = matcher(doc)\n",
    "print([doc[start:end] for match_id, start, end in matches])\n",
    "\n",
    "#for word in doc:\n",
    "    #print(word.text, word.label)"
   ]
  },
  {
   "cell_type": "code",
   "execution_count": null,
   "metadata": {},
   "outputs": [],
   "source": []
  }
 ],
 "metadata": {
  "kernelspec": {
   "display_name": "Python 3",
   "language": "python",
   "name": "python3"
  },
  "language_info": {
   "codemirror_mode": {
    "name": "ipython",
    "version": 3
   },
   "file_extension": ".py",
   "mimetype": "text/x-python",
   "name": "python",
   "nbconvert_exporter": "python",
   "pygments_lexer": "ipython3",
   "version": "3.8.5"
  }
 },
 "nbformat": 4,
 "nbformat_minor": 4
}
