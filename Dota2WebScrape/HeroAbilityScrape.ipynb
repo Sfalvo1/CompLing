{
 "cells": [
  {
   "cell_type": "code",
   "execution_count": 1,
   "metadata": {},
   "outputs": [],
   "source": [
    "import random\n",
    "import json\n",
    "from bs4 import BeautifulSoup as soup\n",
    "from urllib.request import urlopen\n",
    "\n",
    "import re"
   ]
  },
  {
   "cell_type": "code",
   "execution_count": 55,
   "metadata": {},
   "outputs": [],
   "source": [
    "def hero_abilities(hero_name):\n",
    "    ## TODO: Replace space in hero names with _\n",
    "    hero_name = re.sub('\\s','_', hero_name)\n",
    "    ability_data = urlopen(\"https://dota2.gamepedia.com/\" + hero_name)\n",
    "    ability_html = ability_data.read()\n",
    "    ability_data.close()\n",
    "    \n",
    "    pattern = re.compile(r'>(.*)<div style=\"float:right;')\n",
    "    \n",
    "    ability_soup = soup(ability_html, 'html.parser')\n",
    "    \n",
    "    abilities_section = ability_soup.findAll('div', {'class':\"ability-background\"})\n",
    "    #print(abilities_section)\n",
    "    matches = pattern.finditer(str(abilities_section))\n",
    "    abilities_list = []\n",
    "    for match in matches:\n",
    "        abilities_list.append(match[1])\n",
    "    \n",
    "    return abilities_list\n",
    "    #print(ability_url)"
   ]
  },
  {
   "cell_type": "code",
   "execution_count": 57,
   "metadata": {},
   "outputs": [
    {
     "data": {
      "text/plain": [
       "['Cold Feet', 'Ice Vortex', 'Chilling Touch', 'Ice Blast', 'Release']"
      ]
     },
     "execution_count": 57,
     "metadata": {},
     "output_type": "execute_result"
    }
   ],
   "source": [
    "hero_abilities(\"Ancient Apparition\")"
   ]
  },
  {
   "cell_type": "code",
   "execution_count": 33,
   "metadata": {},
   "outputs": [],
   "source": [
    "def get_hero_list():\n",
    "    heroes_url = \"https://dota2.gamepedia.com/Heroes\"\n",
    "    hero_data = urlopen(heroes_url)\n",
    "    hero_html = hero_data.read()\n",
    "    hero_data.close()\n",
    "\n",
    "    page_soup = soup(hero_html, 'html.parser')\n",
    "    hero_table = page_soup.findAll('div', {'class': 'mw-parser-output'})\n",
    "    hero_division = page_soup.find_all('a', {})\n",
    "\n",
    "    hero_list = []\n",
    "    for hero in hero_division[14:]:\n",
    "        if hero['title'] == \"Unreleased Content\":\n",
    "            break\n",
    "        elif hero['title'] == \"Agility\" or hero['title'] == \"Intelligence\" or hero['title'] == \"Stength\":\n",
    "            continue\n",
    "        else:\n",
    "            hero_list.append(hero['title'])\n",
    "        #print(hero['title'])\n",
    "#print(hero_list)\n",
    "#print(len(hero_list))\n",
    "    hero_list.sort()\n",
    "    return hero_list"
   ]
  },
  {
   "cell_type": "code",
   "execution_count": 40,
   "metadata": {},
   "outputs": [
    {
     "data": {
      "text/plain": [
       "'Abaddon'"
      ]
     },
     "execution_count": 40,
     "metadata": {},
     "output_type": "execute_result"
    }
   ],
   "source": [
    "get_hero_list()[0]"
   ]
  },
  {
   "cell_type": "code",
   "execution_count": 45,
   "metadata": {},
   "outputs": [],
   "source": [
    "def create_hero_dict(hero):\n",
    "    hero_dict = { hero : hero_abilities(hero) }\n",
    "    return hero_dict"
   ]
  },
  {
   "cell_type": "code",
   "execution_count": 28,
   "metadata": {},
   "outputs": [],
   "source": [
    "def save_data(file,data):\n",
    "    with open(file, \"w\", encoding=\"utf-8\") as f:\n",
    "        json.dump(data,f,indent=4)"
   ]
  },
  {
   "cell_type": "code",
   "execution_count": 59,
   "metadata": {},
   "outputs": [],
   "source": [
    "hero_list = get_hero_list()\n",
    "dict_list = []\n",
    "for hero in hero_list:\n",
    "    dict_list.append(create_hero_dict(hero))\n",
    "\n",
    "save_data(\"Heros.json\", dict_list)\n",
    "# create_hero_dict(hero)"
   ]
  },
  {
   "cell_type": "code",
   "execution_count": 54,
   "metadata": {},
   "outputs": [
    {
     "data": {
      "text/plain": [
       "'Ancient_Apparition'"
      ]
     },
     "execution_count": 54,
     "metadata": {},
     "output_type": "execute_result"
    }
   ],
   "source": []
  },
  {
   "cell_type": "code",
   "execution_count": null,
   "metadata": {},
   "outputs": [],
   "source": []
  }
 ],
 "metadata": {
  "kernelspec": {
   "display_name": "Python 3",
   "language": "python",
   "name": "python3"
  },
  "language_info": {
   "codemirror_mode": {
    "name": "ipython",
    "version": 3
   },
   "file_extension": ".py",
   "mimetype": "text/x-python",
   "name": "python",
   "nbconvert_exporter": "python",
   "pygments_lexer": "ipython3",
   "version": "3.8.5"
  }
 },
 "nbformat": 4,
 "nbformat_minor": 4
}
