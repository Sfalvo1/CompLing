{
 "cells": [
  {
   "cell_type": "code",
   "execution_count": 1,
   "metadata": {},
   "outputs": [],
   "source": [
    "import re"
   ]
  },
  {
   "cell_type": "code",
   "execution_count": 2,
   "metadata": {},
   "outputs": [],
   "source": [
    "#new_text = ''\n",
    "preface_pat = re.compile(r'^(PREFACE).*([0-9]{4})')\n",
    "arch_pat = re.compile(r'(USHMM).*(\\*[0-9]{4}) [0-9]{1,2}')"
   ]
  },
  {
   "cell_type": "code",
   "execution_count": 3,
   "metadata": {},
   "outputs": [],
   "source": [
    "new_text = ''"
   ]
  },
  {
   "cell_type": "code",
   "execution_count": 4,
   "metadata": {},
   "outputs": [],
   "source": [
    "with open(\"interviewtext.txt\", \"r\", encoding=\"utf-8\") as f:\n",
    "    text = f.read()\n",
    "    text = text.strip()\n",
    "    text = text.replace('\\n', '')\n",
    "    #text = re.sub(preface_pat, '', text)\n",
    "    text = re.sub('Q:', '\\n\\nQ:', text)\n",
    "    text = re.sub('A:', '\\nA:', text)\n",
    "    text = re.sub('Conclusion of Interview', '\\n\\nConclusion of Interview', text)\n",
    "    new_text = text\n",
    "    #segments = text.split(\"\\n\\n\")\n",
    "    #print(segments[:5])\n",
    "    #new_text = re.sub('Q:', '\\n\\nQ:', text)\n",
    "    #print(new_text)"
   ]
  },
  {
   "cell_type": "code",
   "execution_count": 7,
   "metadata": {},
   "outputs": [],
   "source": [
    "#print(new_text)\n",
    "new_text_list = new_text.split('\\n\\n')\n",
    "with open(\"interview_cleaned.txt\", \"a\", encoding=\"utf-8\") as f:\n",
    "\n",
    "    for text in new_text_list:\n",
    "        text = clean_sec(text)\n",
    "        f.write(text)\n",
    "        f.write('\\n')\n",
    "    \n",
    "    f.close()"
   ]
  },
  {
   "cell_type": "code",
   "execution_count": null,
   "metadata": {},
   "outputs": [],
   "source": [
    "work_text = new_text.split(\"\\n\\n\")\n",
    "for text in work_text[:5]:\n",
    "    print(clean_sec(text))\n",
    "#test = work_text[0].replace('\\n', ' ').strip()\n",
    "\n",
    "\n",
    "#new = re.sub(preface_pat,'BAM', test)\n",
    "#print(new)\n",
    "\n",
    "# for section in work_text:\n",
    "#     print(section.strip())"
   ]
  },
  {
   "cell_type": "code",
   "execution_count": 6,
   "metadata": {},
   "outputs": [],
   "source": [
    "def clean_sec(sec):\n",
    "    #sec = sec.strip()\n",
    "    #sec.replace('\\n', '')\n",
    "    sec = re.sub(preface_pat, '\\n', sec)\n",
    "    sec = re.sub(arch_pat, '', sec)\n",
    "    #sec = re.sub('A:', '\\nA:', sec)\n",
    "    return sec"
   ]
  },
  {
   "cell_type": "code",
   "execution_count": null,
   "metadata": {},
   "outputs": [],
   "source": [
    "print(work_text)"
   ]
  },
  {
   "cell_type": "code",
   "execution_count": null,
   "metadata": {},
   "outputs": [],
   "source": []
  }
 ],
 "metadata": {
  "kernelspec": {
   "display_name": "Python 3",
   "language": "python",
   "name": "python3"
  },
  "language_info": {
   "codemirror_mode": {
    "name": "ipython",
    "version": 3
   },
   "file_extension": ".py",
   "mimetype": "text/x-python",
   "name": "python",
   "nbconvert_exporter": "python",
   "pygments_lexer": "ipython3",
   "version": "3.8.5"
  }
 },
 "nbformat": 4,
 "nbformat_minor": 4
}
