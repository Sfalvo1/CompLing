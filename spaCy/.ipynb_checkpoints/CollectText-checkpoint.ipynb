{
 "cells": [
  {
   "cell_type": "code",
   "execution_count": null,
   "metadata": {},
   "outputs": [],
   "source": [
    "from urllib.request import urlopen\n",
    "import urllib.error\n",
    "import PyPDF2 as pydf\n",
    "import re"
   ]
  },
  {
   "cell_type": "code",
   "execution_count": null,
   "metadata": {},
   "outputs": [],
   "source": [
    "nl_pattern = re.compile(r'\\\\n2*')\n",
    "a_pattern = re.compile(r'USHMM Archives RG-50.030\\*[0-9]{4}')"
   ]
  },
  {
   "cell_type": "code",
   "execution_count": null,
   "metadata": {},
   "outputs": [],
   "source": [
    "def download_files(urls):\n",
    "    url_index = 0\n",
    "    f = open(\"interviewtext.txt\", \"a+\")\n",
    "    for url in urls:\n",
    "        response = urlopen(url)\n",
    "        print(response.getcode())\n",
    "        file = open(f\"Doc{url_index}.pdf\", 'wb')\n",
    "        file.write(response.read())\n",
    "\n",
    "        file = open(f\"Doc{url_index}.pdf\", 'rb')\n",
    "        pdf_reader = pydf.PdfFileReader(file) \n",
    "        if pdf_reader.isEncrypted:\n",
    "            pdf_reader.decrypt('')\n",
    "    \n",
    "        total_pages = pdf_reader.numPages\n",
    "        f = open(\"interviewtext.txt\", \"a\",encoding=\"utf-8\")\n",
    "\n",
    "        for i in range(1,total_pages):\n",
    "            page = pdf_reader.getPage(i)\n",
    "            raw_text = page.extractText()\n",
    "            work_text = re.sub(nl_pattern, '', raw_text)\n",
    "            final_text = re.sub(a_pattern, '', work_text)\n",
    "\n",
    "            f.write(final_text)\n",
    "\n",
    "        f.close()    \n",
    "        file.close()\n",
    "        \n",
    "        \n",
    "        print(f\"Completed Page{url_index}\")\n",
    "        url_index += 1\n",
    "    print(\"Job's done!\")"
   ]
  },
  {
   "cell_type": "code",
   "execution_count": null,
   "metadata": {},
   "outputs": [],
   "source": [
    "def download_files_error(urls):\n",
    "    url_index = 0\n",
    "    f = open(\"interviewtext.txt\", \"a+\")\n",
    "    for url in urls:\n",
    "        try:\n",
    "            response = urlopen(url)\n",
    "        except urllib.error.HTTPError as e:\n",
    "            continue\n",
    "            \n",
    "        file = open(f\"Doc{url_index}.pdf\", 'wb')\n",
    "        file.write(response.read())\n",
    "\n",
    "        file = open(f\"Doc{url_index}.pdf\", 'rb')\n",
    "        pdf_reader = pydf.PdfFileReader(file) \n",
    "        if pdf_reader.isEncrypted:\n",
    "            pdf_reader.decrypt('')\n",
    "    \n",
    "        total_pages = pdf_reader.numPages\n",
    "        f = open(\"interviewtext.txt\", \"a\",encoding=\"utf-8\")\n",
    "\n",
    "        for i in range(1,total_pages):\n",
    "            page = pdf_reader.getPage(i)\n",
    "            raw_text = page.extractText()\n",
    "            work_text = re.sub(nl_pattern, '', raw_text)\n",
    "            final_text = re.sub(a_pattern, '', work_text)\n",
    "\n",
    "            f.write(final_text)\n",
    "\n",
    "        f.close()    \n",
    "        file.close()\n",
    "        \n",
    "        \n",
    "        print(f\"Completed Page{url_index}\")\n",
    "        url_index += 1\n",
    "    print(\"Job's done!\")"
   ]
  },
  {
   "cell_type": "code",
   "execution_count": null,
   "metadata": {},
   "outputs": [],
   "source": [
    "urls = [\n",
    "    \"https://collections.ushmm.org/oh_findingaids/RG-50.030.0001_trs_en.pdf\",\n",
    "    \"https://collections.ushmm.org/oh_findingaids/RG-50.030.0016_trs_en.pdf\",\n",
    "    \"https://collections.ushmm.org/oh_findingaids/RG-50.030.0017_trs_en.pdf\",\n",
    "    \"https://collections.ushmm.org/oh_findingaids/RG-50.030.0018_trs_en.pdf\",\n",
    "    \"https://collections.ushmm.org/oh_findingaids/RG-50.030.0019_trs_en.pdf\",\n",
    "    \"https://collections.ushmm.org/oh_findingaids/RG-50.030.0015_trs_en.pdf\"\n",
    "]"
   ]
  },
  {
   "cell_type": "code",
   "execution_count": null,
   "metadata": {},
   "outputs": [],
   "source": [
    "test_url = \"https://collections.ushmm.org/oh_findingaids/RG-50.030.000\"+\"2_trs_en.pdf\"\n",
    "test_url"
   ]
  },
  {
   "cell_type": "code",
   "execution_count": null,
   "metadata": {
    "scrolled": false
   },
   "outputs": [],
   "source": [
    "new_urls = []\n",
    "for i in range(10,100):\n",
    "    new_urls.append(\"https://collections.ushmm.org/oh_findingaids/RG-50.030.00\"+ str(i) + \"_trs_en.pdf\")\n",
    "new_urls"
   ]
  },
  {
   "cell_type": "code",
   "execution_count": null,
   "metadata": {
    "scrolled": false
   },
   "outputs": [],
   "source": [
    "download_files_error(new_urls)"
   ]
  },
  {
   "cell_type": "code",
   "execution_count": null,
   "metadata": {},
   "outputs": [],
   "source": [
    "# pdf = open('document.pdf', 'rb')\n",
    "# pdf_reader = pydf.PdfFileReader(pdf)\n",
    "# #print(pdf.numPages)\n",
    "# if pdf_reader.isEncrypted:\n",
    "#     pdf_reader.decrypt('')\n",
    "# page = pdf_reader.getPage(3)\n",
    "# raw_text = page.extractText()\n",
    "# work_text = re.sub(nl_pattern, '', raw_text)\n",
    "# final_text = re.sub(a_pattern, '', work_text)\n",
    "# f = open(\"interviewtext.txt\", \"a\")\n",
    "# f.write(final_text)\n",
    "# f.close()"
   ]
  },
  {
   "cell_type": "code",
   "execution_count": null,
   "metadata": {},
   "outputs": [],
   "source": [
    "# f = open(\"interviewtext.txt\", \"a+\")\n",
    "# f.write(\"Well, hello there\")\n",
    "# f.close()"
   ]
  },
  {
   "cell_type": "code",
   "execution_count": null,
   "metadata": {},
   "outputs": [],
   "source": [
    "# index = 1\n",
    "# response = urlopen(\"https://collections.ushmm.org/oh_findingaids/RG-50.030.0001_trs_en.pdf\")\n",
    "# file = open(f\"Doc{index}.pdf\", 'wb')\n",
    "# file.write(response.read())\n",
    "\n",
    "# file = open(f\"Doc{index}.pdf\", 'rb')\n",
    "# pdf_reader = pydf.PdfFileReader(file) \n",
    "# if pdf_reader.isEncrypted:\n",
    "#     pdf_reader.decrypt('')\n",
    "    \n",
    "# total_pages = pdf_reader.numPages\n",
    "# f = open(\"interviewtext.txt\", \"a\")\n",
    "\n",
    "# for i in range(0,total_pages):\n",
    "#     page = pdf_reader.getPage(i)\n",
    "#     raw_text = page.extractText()\n",
    "#     work_text = re.sub(nl_pattern, '', raw_text)\n",
    "#     final_text = re.sub(a_pattern, '', work_text)\n",
    "\n",
    "#     f.write(final_text)\n",
    "\n",
    "# f.close()    \n",
    "# file.close()\n",
    "# print(\"Completed\")\n",
    "    \n",
    "    \n",
    "#file.close()"
   ]
  },
  {
   "cell_type": "code",
   "execution_count": null,
   "metadata": {},
   "outputs": [],
   "source": [
    "download_files(urls)"
   ]
  },
  {
   "cell_type": "code",
   "execution_count": null,
   "metadata": {},
   "outputs": [],
   "source": [
    "with open (\"interviewtext.txt\", \"r\", encoding=\"utf-8\") as f:\n",
    "    segments = f.read().split(\"\\n\\n\")\n",
    "    pattern = a_pattern\n",
    "    \n",
    "    pattern_matches = []\n",
    "    \n",
    "    print(segments[22])\n",
    "    \n",
    "#     for segment in segments:\n",
    "#         segment = segment.strip()\n",
    "#         match = pattern.finditer(segment)\n",
    "#         print(segment)"
   ]
  },
  {
   "cell_type": "code",
   "execution_count": null,
   "metadata": {},
   "outputs": [],
   "source": []
  }
 ],
 "metadata": {
  "kernelspec": {
   "display_name": "Python 3",
   "language": "python",
   "name": "python3"
  },
  "language_info": {
   "codemirror_mode": {
    "name": "ipython",
    "version": 3
   },
   "file_extension": ".py",
   "mimetype": "text/x-python",
   "name": "python",
   "nbconvert_exporter": "python",
   "pygments_lexer": "ipython3",
   "version": "3.8.5"
  }
 },
 "nbformat": 4,
 "nbformat_minor": 4
}
