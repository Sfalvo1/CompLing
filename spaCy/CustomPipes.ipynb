{
 "cells": [
  {
   "cell_type": "code",
   "execution_count": 2,
   "metadata": {},
   "outputs": [],
   "source": [
    "import spacy"
   ]
  },
  {
   "cell_type": "code",
   "execution_count": 6,
   "metadata": {},
   "outputs": [
    {
     "name": "stdout",
     "output_type": "stream",
     "text": [
      "Lakhva ORG\n",
      "Lodz PERSON\n",
      "Germans NORP\n",
      "Lakhva PERSON\n",
      "Warsaw GPE\n",
      "Majdanek CONC_CAMP\n",
      "Treblinka CONC_CAMP\n",
      "Plonsk GPE\n",
      "Warsaw GPE\n",
      "Poland GPE\n",
      "Pomiechowek PERSON\n",
      "Poland GPE\n",
      "Lakvha ORG\n",
      "USHMM Archive ORG\n",
      "United States Holocaust Memorial Museum ORG\n",
      "David A. Kochalski PERSON\n",
      "May 5, 1928 DATE\n",
      "Poland GPE\n"
     ]
    }
   ],
   "source": [
    "main_nlp = spacy.load(\"en_core_web_sm\")\n",
    "\n",
    "# To resolve \"StringStore Error\", need to add conc_camps to spacy's label storage\n",
    "new_vocab = [\"CONC_CAMP\"]\n",
    "\n",
    "# introduces new label into vocab\n",
    "for item in new_vocab:\n",
    "    main_nlp.vocab.strings.add(item)\n",
    "\n",
    "# Adding custom cc_ner model to a standard spacy model\n",
    "# Need to make sure custom pipe comes before spacy's defaults\n",
    "#   Or have it use an overwrite\n",
    "\n",
    "conc_camps_nlp = spacy.load(\"cc_ner\")\n",
    "ner = conc_camps_nlp.get_pipe(\"entity_ruler\")\n",
    "\n",
    "main_nlp.add_pipe(ner, name=\"cc_ner\", before=\"ner\")\n",
    "\n",
    "main_nlp.to_disk(\"main_model\")\n",
    "\n",
    "doc = main_nlp(\"But you traveled from Lakhva to Lodz with your father. So, when the Germans came to Lakhva, did they form the ghetto immediately? So, have nothing to do there, and they start the ghetto in Warsaw? And after they start to evactuate the ghetto, to take to Majdanek, to Treblinka, and the peoples they start to know they kill these people. This is the town of Plonsk. Warsaw is also a city in Poland. Pomiechowek is also a city in Poland. The Lakvha ghetto. USHMM Archive. United States Holocaust Memorial Museum. David A. Kochalski, born May 5, 1928 in Poland\")\n",
    "for ent in doc.ents:\n",
    "    print(ent.text, ent.label_)\n",
    "    "
   ]
  },
  {
   "cell_type": "code",
   "execution_count": null,
   "metadata": {},
   "outputs": [],
   "source": []
  }
 ],
 "metadata": {
  "kernelspec": {
   "display_name": "Python 3",
   "language": "python",
   "name": "python3"
  },
  "language_info": {
   "codemirror_mode": {
    "name": "ipython",
    "version": 3
   },
   "file_extension": ".py",
   "mimetype": "text/x-python",
   "name": "python",
   "nbconvert_exporter": "python",
   "pygments_lexer": "ipython3",
   "version": "3.8.5"
  }
 },
 "nbformat": 4,
 "nbformat_minor": 4
}
